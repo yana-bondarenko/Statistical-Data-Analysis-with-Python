{
 "cells": [
  {
   "cell_type": "markdown",
   "metadata": {},
   "source": [
    "“Python Data Science Handbook by Jake VanderPlas (O’Reilly). Copyright 2017 Jake VanderPlas, 978-1-491-91205-8.”"
   ]
  },
  {
   "cell_type": "markdown",
   "metadata": {},
   "source": [
    "## Бібліотека Pandas. Частина 2. Операції над даними"
   ]
  },
  {
   "cell_type": "markdown",
   "metadata": {},
   "source": [
    "Розглянемо операції над даними в Pandas. "
   ]
  },
  {
   "cell_type": "markdown",
   "metadata": {},
   "source": [
    "Одна з найважливіших складових бібліотеки NumPy - здатність виконувати швидкі поелементні операції - як найпростіші арифметичні \n",
    "(додавання, віднімання, множення і т. д.), так і більш складні (тригонометричні, показникові, логарифмічні функції і т.п.). \n",
    "Бібліотека Pandas успадковує від NumPy чималу частину цієї функціональності, і ключ до її використання -\n",
    "універсальні функції."
   ]
  },
  {
   "cell_type": "code",
   "execution_count": null,
   "metadata": {},
   "outputs": [],
   "source": []
  },
  {
   "cell_type": "markdown",
   "metadata": {},
   "source": [
    "### Універсальні функції: збереження індекса"
   ]
  },
  {
   "cell_type": "markdown",
   "metadata": {},
   "source": [
    "Всі універсальні функції бібліотеки NumPy застосовуються до об'єктів Series та DataFrame. "
   ]
  },
  {
   "cell_type": "code",
   "execution_count": null,
   "metadata": {},
   "outputs": [],
   "source": [
    "#масив розміром size випадкових цілих чисел на [low, high)\n",
    "#об'єкт Series\n"
   ]
  },
  {
   "cell_type": "code",
   "execution_count": null,
   "metadata": {},
   "outputs": [],
   "source": [
    "#масив розміром size випадкових цілих чисел на [low, high)\n",
    "#об'єкт DataFrame\n"
   ]
  },
  {
   "cell_type": "markdown",
   "metadata": {},
   "source": [
    "Якщо застосувати універсальну функцію NumPy до будь-якого з цих об'єктів, результатом буде об'єкт бібліотеки Pandas зі збереженням індексів: "
   ]
  },
  {
   "cell_type": "code",
   "execution_count": null,
   "metadata": {},
   "outputs": [],
   "source": []
  },
  {
   "cell_type": "code",
   "execution_count": null,
   "metadata": {},
   "outputs": [],
   "source": [
    "#об'єкт Series"
   ]
  },
  {
   "cell_type": "code",
   "execution_count": null,
   "metadata": {},
   "outputs": [],
   "source": []
  },
  {
   "cell_type": "code",
   "execution_count": null,
   "metadata": {},
   "outputs": [],
   "source": [
    " #об'єкт DataFrame"
   ]
  },
  {
   "cell_type": "code",
   "execution_count": null,
   "metadata": {},
   "outputs": [],
   "source": []
  },
  {
   "cell_type": "markdown",
   "metadata": {},
   "source": [
    "Всі універсальні функції бібіліотеки NumPy застосовуються до об'єктів бібліотеки Pandas."
   ]
  },
  {
   "cell_type": "markdown",
   "metadata": {},
   "source": [
    "### Універсальні функції: вирівнювання індексів"
   ]
  },
  {
   "cell_type": "markdown",
   "metadata": {},
   "source": [
    "При бінарних операціях над двома об'єктами Series або DataFrame бібіліотека Pandas вирівнює індекси в процесі виконання операції. Це зручно при роботі з неповними даними."
   ]
  },
  {
   "cell_type": "markdown",
   "metadata": {},
   "source": [
    "#### Вирівнювання індексів в об'єктах Series"
   ]
  },
  {
   "cell_type": "markdown",
   "metadata": {},
   "source": [
    "Припустимо, що ми об'єднали два різних джерела даних для того, щоб знайти 3 штати з найбільшою площею і 3 штати з найбільшою кількістю населення. "
   ]
  },
  {
   "cell_type": "code",
   "execution_count": null,
   "metadata": {},
   "outputs": [],
   "source": []
  },
  {
   "cell_type": "markdown",
   "metadata": {},
   "source": [
    "Подивимося, що вийде, якщо розділити Series population на Series area для обчислення щільності населення density: "
   ]
  },
  {
   "cell_type": "code",
   "execution_count": null,
   "metadata": {},
   "outputs": [],
   "source": [
    "\n",
    "#відбувається об'єднання індексів двох об'єктів Series"
   ]
  },
  {
   "cell_type": "markdown",
   "metadata": {},
   "source": [
    "Series density містить об'єднання індексів двох початкових Series area та Series population, \n",
    "при цьому всі відсутні значення заполнюються значенням NaN (Not a Number)."
   ]
  },
  {
   "cell_type": "markdown",
   "metadata": {},
   "source": [
    "Одержаний об'єкт Series є результатом об'єднання індексів двох вихідних об'єктів Series, яке можна визначити за допомогою \n",
    "стандартного синтаксису мови Python: "
   ]
  },
  {
   "cell_type": "code",
   "execution_count": null,
   "metadata": {},
   "outputs": [],
   "source": []
  },
  {
   "cell_type": "markdown",
   "metadata": {},
   "source": [
    "Якщо використання значень NaN небажане, то можна замінити відсутнє значення, скориставшись методами бібліотеки Pandas. "
   ]
  },
  {
   "cell_type": "markdown",
   "metadata": {},
   "source": [
    "Мeтод **A.add(B, fill_value=fill)** еквівалентний **A+B** та дозволяє заповнити відсутні значення елементів в об'єктах A,B (можна за бажанням задати явно значення для будь-яких відсутніх елементів в об'єктах A або B). "
   ]
  },
  {
   "cell_type": "code",
   "execution_count": null,
   "metadata": {},
   "outputs": [],
   "source": []
  },
  {
   "cell_type": "markdown",
   "metadata": {},
   "source": [
    "Мeтод **A.subtract(B, fill_value=fill)** еквівалентний **A-B** та дозволяє заповнити відсутні значення елементів в об'єктах A,B."
   ]
  },
  {
   "cell_type": "code",
   "execution_count": null,
   "metadata": {},
   "outputs": [],
   "source": []
  },
  {
   "cell_type": "markdown",
   "metadata": {},
   "source": [
    "Мeтод **A.multiply(B, fill_value=fill)** еквівалентний **A*B** та дозволяє заповнити відсутні значення елементів в об'єктах A,B. "
   ]
  },
  {
   "cell_type": "code",
   "execution_count": null,
   "metadata": {},
   "outputs": [],
   "source": []
  },
  {
   "cell_type": "markdown",
   "metadata": {},
   "source": [
    "Мeтод **A.divide(B, fill_value=fill)** еквівалентний **A/B** та дозволяє заповнити відсутні значення елементів в об'єктах A,B. "
   ]
  },
  {
   "cell_type": "code",
   "execution_count": null,
   "metadata": {},
   "outputs": [],
   "source": []
  },
  {
   "cell_type": "markdown",
   "metadata": {},
   "source": [
    "Мeтод **A.floordiv(B, fill_value=fill)** еквівалентний **A//B** та дозволяє заповнити відсутні значення елементів в об'єктах A,B. "
   ]
  },
  {
   "cell_type": "code",
   "execution_count": null,
   "metadata": {},
   "outputs": [],
   "source": []
  },
  {
   "cell_type": "markdown",
   "metadata": {},
   "source": [
    "Мeтод **A.mod(B, fill_value=fill)** еквівалентний **A%B** та дозволяє заповнити відсутні значення елементів в об'єктах A,B.  "
   ]
  },
  {
   "cell_type": "code",
   "execution_count": null,
   "metadata": {},
   "outputs": [],
   "source": []
  },
  {
   "cell_type": "markdown",
   "metadata": {},
   "source": [
    "Мeтод **A.pow(B, fill_value=fill)** еквівалентний **A^B** та дозволяє заповнити відсутні значення елементів в об'єктах A,B. "
   ]
  },
  {
   "cell_type": "code",
   "execution_count": null,
   "metadata": {},
   "outputs": [],
   "source": []
  },
  {
   "cell_type": "markdown",
   "metadata": {},
   "source": [
    "#### Вирівнювання індексів в об'єктах DataFrame"
   ]
  },
  {
   "cell_type": "markdown",
   "metadata": {},
   "source": [
    "При виконанні операцій над об'єктами DataFrame відбувається аналогічне вирівнювання індексів як для стовбців, так і для індексів."
   ]
  },
  {
   "cell_type": "code",
   "execution_count": null,
   "metadata": {},
   "outputs": [],
   "source": [
    "#масив розміром size випадкових цілих чисел на [low, high)\n",
    "#об'єкт DataFrame\n"
   ]
  },
  {
   "cell_type": "code",
   "execution_count": null,
   "metadata": {},
   "outputs": [],
   "source": [
    "#масив розміром size випадкових цілих чисел на [low, high)\n",
    "#об'єкт DataFrame\n"
   ]
  },
  {
   "cell_type": "code",
   "execution_count": null,
   "metadata": {},
   "outputs": [],
   "source": [
    "#об'єднання індексів двох об'єктів DataFrame"
   ]
  },
  {
   "cell_type": "markdown",
   "metadata": {},
   "source": [
    "Індекси вирівнюються правильно незалежно від їхнього розташування в двох об'єктах. Індекси в здобутому результаті відсортовано."
   ]
  },
  {
   "cell_type": "markdown",
   "metadata": {},
   "source": [
    "Як і в разі об'єктів Series, можна використовувати відповідні арифметичні методи об'єктів і передавати для використання \n",
    "замість відсутніх значень будь-яке потрібне значення **fill_value**. У наступному прикладі ми заповнимо відсутні значення \n",
    "середнім значенням всіх елементів об'єкта A."
   ]
  },
  {
   "cell_type": "markdown",
   "metadata": {},
   "source": [
    "Спочатку розташуємо значення об'єкту A в один стовбець за допомогою функції **stack()**."
   ]
  },
  {
   "cell_type": "code",
   "execution_count": null,
   "metadata": {},
   "outputs": [],
   "source": []
  },
  {
   "cell_type": "code",
   "execution_count": null,
   "metadata": {},
   "outputs": [],
   "source": []
  },
  {
   "cell_type": "markdown",
   "metadata": {},
   "source": [
    "#### Універсальні функції: виконання операції між об'єктами DataFrame і Series "
   ]
  },
  {
   "cell_type": "markdown",
   "metadata": {},
   "source": [
    "При виконанні операцій між об'єктами DataFrame і Series вирівнювання стовбців і індексів здійснюється аналогічно. \n",
    "Операції між об'єктами DataFrame і Series подібні до операцій між двовимірним і одновимірним масивами бібліотеки NumPy. \n",
    "Розглянемо одну з найпоширеніших операцій - обчислення різниці двовимірного масиву і одного з його рядків. "
   ]
  },
  {
   "cell_type": "code",
   "execution_count": null,
   "metadata": {},
   "outputs": [],
   "source": [
    "#масив розміром size випадкових цілих чисел на [low, high)\n"
   ]
  },
  {
   "cell_type": "markdown",
   "metadata": {},
   "source": [
    "Згідно з правилами транслювання бібліотеки NumPy віднімання з двовимірного масиву одного з його рядків виконується по рядках. "
   ]
  },
  {
   "cell_type": "markdown",
   "metadata": {},
   "source": [
    "У бібліотеці Pandas віднімання також відбувається по рядках (за замовчуванням axis=0). "
   ]
  },
  {
   "cell_type": "code",
   "execution_count": null,
   "metadata": {},
   "outputs": [],
   "source": [
    "#масив розміром size випадкових цілих чисел на [low, high)\n"
   ]
  },
  {
   "cell_type": "markdown",
   "metadata": {},
   "source": [
    "Якщо ж ви хочете виконати цю операцію за стовбцями, то можете скористатися ключовим словом axis=0: "
   ]
  },
  {
   "cell_type": "code",
   "execution_count": null,
   "metadata": {},
   "outputs": [],
   "source": [
    "#масив розміром size випадкових цілих чисел на [low, high)\n"
   ]
  },
  {
   "cell_type": "markdown",
   "metadata": {},
   "source": [
    "Зверніть увагу, що операції DataFrame / Series, аналогічно операціям, які обговорювалися раніше, будуть автоматично виконувати вирівнювання індексів між двома їх елементами: "
   ]
  },
  {
   "cell_type": "code",
   "execution_count": null,
   "metadata": {},
   "outputs": [],
   "source": []
  },
  {
   "cell_type": "code",
   "execution_count": null,
   "metadata": {},
   "outputs": [],
   "source": []
  },
  {
   "cell_type": "markdown",
   "metadata": {},
   "source": [
    "Отже, подібне збереження і вирівнювання індексів і стобпців означає, що операції над даними в бібліотеці Pandas завжди \n",
    "зберігають контекст даних, запобігаючи можливим помилкам при роботі з неоднорідними і/або неправильно/неоднаково \n",
    "вирівняними даними у вихідних масивах NumPy. "
   ]
  },
  {
   "cell_type": "markdown",
   "metadata": {},
   "source": [
    "## Обробка відсутніх значень"
   ]
  },
  {
   "cell_type": "markdown",
   "metadata": {},
   "source": [
    "Реальні дані рідко бувають очищеними і однорідними. Зокрема, у багатьох цікавих наборах даних деяка кількість даних відсутня. \n",
    "Ще більше ускладнює роботу те, що в різних джерелах даних відсутні дані можуть бути позначені по-різному. "
   ]
  },
  {
   "cell_type": "markdown",
   "metadata": {},
   "source": [
    "Тут і далі ми будемо називати відсутні дані: null, NaN або NA-значеннями. "
   ]
  },
  {
   "cell_type": "markdown",
   "metadata": {},
   "source": [
    "### None: відсутні значення в мові Python"
   ]
  },
  {
   "cell_type": "markdown",
   "metadata": {},
   "source": [
    "Об'єкт None використовується для позначення відсутніх значень на мові Python. Об'єкт None - це об'єкт Python,\n",
    "тому його не можна використовувати в масивах бібіліотек NumPy/Pandas, а тільки в масивах з типом даних 'object'\n",
    "(тобто в масивах об'єктів мови Python)."
   ]
  },
  {
   "cell_type": "code",
   "execution_count": null,
   "metadata": {},
   "outputs": [],
   "source": []
  },
  {
   "cell_type": "markdown",
   "metadata": {},
   "source": [
    "Вираз dtype = object означає, що найкращий можливий висновок про загальний тип елементів вмісту даного масиву, \n",
    "який тільки змогла зробити бібліотека NumPy, - це те, що вони всі є об'єктами Python. Хоча такий різновид масивів \n",
    "корисний для певних цілей, всі операції над ними будуть виконуватися на рівні мови Python, з обчислювальними витратами, які \n",
    "значно перевищують витрати на виконання швидких операцій над масивами з нативними типами даних: "
   ]
  },
  {
   "cell_type": "code",
   "execution_count": null,
   "metadata": {},
   "outputs": [],
   "source": []
  },
  {
   "cell_type": "markdown",
   "metadata": {},
   "source": [
    "Використання об'єктів мови Python в масивах означає також, що при виконанні функцій агрегування по масиву зі значеннями None, \n",
    "наприклад sum() або min(), буде повернуто помилку: "
   ]
  },
  {
   "cell_type": "code",
   "execution_count": null,
   "metadata": {},
   "outputs": [],
   "source": []
  },
  {
   "cell_type": "markdown",
   "metadata": {},
   "source": [
    "Ця помилка відображає той факт, що операція між цілочисельним значенням і значенням None не визначена. "
   ]
  },
  {
   "cell_type": "markdown",
   "metadata": {},
   "source": [
    "### NaN: відсутні числові дані з плаваючою точкою"
   ]
  },
  {
   "cell_type": "markdown",
   "metadata": {},
   "source": [
    "Ще одне подання відсутніх даних, NaN, є спеціальним значенням з плаваючою точкою, яке розпізнається усіма системами, які використовують стандартні IEEE-уявлення чисел з плаваючою точкою.\n",
    "\n",
    "Даний стандарт розроблений асоціацією IEEE (Institute of Electrical and Electronics Engineers) і використовується для подання дійсних чисел (чисел з плаваючою точкою) в двійковому коді. Найбільш використовуваний стандарт для обчислень з плаваючою точкою, використовується багатьма мікропроцесорами і логічними пристроями, а також програмними засобами. "
   ]
  },
  {
   "cell_type": "code",
   "execution_count": null,
   "metadata": {},
   "outputs": [],
   "source": []
  },
  {
   "cell_type": "code",
   "execution_count": null,
   "metadata": {},
   "outputs": [],
   "source": []
  },
  {
   "cell_type": "markdown",
   "metadata": {},
   "source": [
    "Зверніть увагу, що бібліотека NumPy вибрала для цього масиву нативний тип з плаваючою точкою: \n",
    "це означає, що, на відміну від вищезгаданого масиву об'єктів, цей масив підтримує швидкі операції, \n",
    "що передаються на виконання скомпільованому коду. \n",
    "\n",
    "Значення NaN в чомусь подібно «вірусу даних»: воно «заражає» будь-який об'єкт, до якого «торкається». \n",
    "Незалежно від операції результат арифметичної дії за участю NaN буде дорівнює NaN: "
   ]
  },
  {
   "cell_type": "code",
   "execution_count": null,
   "metadata": {},
   "outputs": [],
   "source": []
  },
  {
   "cell_type": "code",
   "execution_count": null,
   "metadata": {},
   "outputs": [],
   "source": []
  },
  {
   "cell_type": "markdown",
   "metadata": {},
   "source": [
    "Це означає, що операції агрегування значень визначені (тобто їх результатом не буде помилка), але це не завжди приносить користь: "
   ]
  },
  {
   "cell_type": "code",
   "execution_count": null,
   "metadata": {},
   "outputs": [],
   "source": []
  },
  {
   "cell_type": "markdown",
   "metadata": {},
   "source": [
    "Бібліотека NumPy надає спеціалізовані функції, які ігнорують ці відсутні значення: "
   ]
  },
  {
   "cell_type": "code",
   "execution_count": null,
   "metadata": {},
   "outputs": [],
   "source": []
  },
  {
   "cell_type": "markdown",
   "metadata": {},
   "source": [
    "### Значення NaN та None в бібліотеці Pandas"
   ]
  },
  {
   "cell_type": "markdown",
   "metadata": {},
   "source": [
    "Бібліотека Pandas перетворює значення None  в значення NaN, при цьому виконується приведення елементів масиву к типу з плаваючою точкою."
   ]
  },
  {
   "cell_type": "code",
   "execution_count": null,
   "metadata": {},
   "outputs": [],
   "source": []
  },
  {
   "cell_type": "code",
   "execution_count": null,
   "metadata": {},
   "outputs": [],
   "source": []
  },
  {
   "cell_type": "markdown",
   "metadata": {},
   "source": [
    "### Операції над відсутніми значеннями"
   ]
  },
  {
   "cell_type": "markdown",
   "metadata": {},
   "source": [
    "Бібліотека Pandas розглядає значення None і NaN як взаємозамінні індикатори відсутніх або порожніх значень. Існує кілька\n",
    "зручних методів для виявлення, видалення і заміни порожніх значень в структурах даних бібліотеки Pandas, \n",
    "покликаних спростити роботу з ними. "
   ]
  },
  {
   "cell_type": "markdown",
   "metadata": {},
   "source": [
    "**isnull()** - генерує булеву маску для відсутніх значень\n",
    "\n",
    "**notnull()** - протилежність методу isnull()\n",
    "\n",
    "**dropna()** - повертає відфільтровані дані\n",
    "\n",
    "**fillna()** - повертає копію даних, в якій пропущені значення заповнені або відновлені "
   ]
  },
  {
   "cell_type": "markdown",
   "metadata": {},
   "source": [
    "#### Знаходження відсутніх значень об'єкту Series"
   ]
  },
  {
   "cell_type": "markdown",
   "metadata": {},
   "source": [
    "У структур даних бібліотеки Pandas є два зручні методу для виявлення порожніх значень: **isnull()** і **notnull()**. \n",
    "Кожен з них повертає булеву маску для даних. "
   ]
  },
  {
   "cell_type": "code",
   "execution_count": null,
   "metadata": {},
   "outputs": [],
   "source": []
  },
  {
   "cell_type": "code",
   "execution_count": null,
   "metadata": {},
   "outputs": [],
   "source": [
    "# генеруємо булеву маску для відсутніх значень\n"
   ]
  },
  {
   "cell_type": "code",
   "execution_count": null,
   "metadata": {},
   "outputs": [],
   "source": [
    "#знаходимо відсутні значення\n"
   ]
  },
  {
   "cell_type": "code",
   "execution_count": null,
   "metadata": {},
   "outputs": [],
   "source": [
    "# генеруємо булеву маску для наявних значень\n"
   ]
  },
  {
   "cell_type": "code",
   "execution_count": null,
   "metadata": {},
   "outputs": [],
   "source": [
    "#знаходимо наявні значення\n",
    "    "
   ]
  },
  {
   "cell_type": "markdown",
   "metadata": {},
   "source": [
    "#### Знаходження відсутніх значень об'єкту DataFrame"
   ]
  },
  {
   "cell_type": "code",
   "execution_count": null,
   "metadata": {},
   "outputs": [],
   "source": []
  },
  {
   "cell_type": "code",
   "execution_count": null,
   "metadata": {},
   "outputs": [],
   "source": [
    "# генеруємо булеву маску для відсутніх значень"
   ]
  },
  {
   "cell_type": "code",
   "execution_count": null,
   "metadata": {},
   "outputs": [],
   "source": [
    "# генеруємо булеву маску для наявних значень"
   ]
  },
  {
   "cell_type": "markdown",
   "metadata": {},
   "source": [
    "#### Видалення відсутніх значень"
   ]
  },
  {
   "cell_type": "markdown",
   "metadata": {},
   "source": [
    "Окрім продемонстрованого вище маскування, існують зручні методи: **dropna()** (видалення NA-значень) і **fillna()** \n",
    "(заповнення NA-значень). Для об'єкта Series результат однозначний: "
   ]
  },
  {
   "cell_type": "code",
   "execution_count": null,
   "metadata": {},
   "outputs": [],
   "source": []
  },
  {
   "cell_type": "code",
   "execution_count": null,
   "metadata": {},
   "outputs": [],
   "source": []
  },
  {
   "cell_type": "markdown",
   "metadata": {},
   "source": [
    "У разі об'єктів DataFrame існує кілька параметрів. Розглянемо наступний об'єкт DataFrame: "
   ]
  },
  {
   "cell_type": "code",
   "execution_count": null,
   "metadata": {},
   "outputs": [],
   "source": []
  },
  {
   "cell_type": "markdown",
   "metadata": {},
   "source": [
    "Не можна видалити з DataFrame окремі значення, тільки цілі рядки або стовбці. В залежності від задачі може знадобитися той чи інший варіант, так що функція **dropna()** надає для випадку об'єктів DataFrame \n",
    "кілька параметрів. "
   ]
  },
  {
   "cell_type": "markdown",
   "metadata": {},
   "source": [
    "За замовчуванням **dropna()** відкидає всі рядки, в яких присутній хоча б одне відсутнє значення: "
   ]
  },
  {
   "cell_type": "code",
   "execution_count": null,
   "metadata": {},
   "outputs": [],
   "source": [
    "#видалення всіх рядків, які містять відсутні значення\n"
   ]
  },
  {
   "cell_type": "markdown",
   "metadata": {},
   "source": [
    "Також можна видаляти NA-значення по різних вісях: завдання параметра **axis = 1** видаляє всі стовпці, що містять хоча б одне відсутнє значення: "
   ]
  },
  {
   "cell_type": "code",
   "execution_count": null,
   "metadata": {},
   "outputs": [],
   "source": [
    "#видалення всіх стовбців, які містять хоча б одне відсутне значення\n"
   ]
  },
  {
   "cell_type": "markdown",
   "metadata": {},
   "source": [
    "Але при цьому видаляються також і деякі «хороші» дані. Можливо, вам захочеться видалити рядки або стобпці, \n",
    "всі значення (або більшість) в яких є NA, наприклад, за допомогою параметрів **how** і **thresh**, що забезпечують точний контроль допустимої кількості відсутніх значень. "
   ]
  },
  {
   "cell_type": "markdown",
   "metadata": {},
   "source": [
    "За замовчуванням **how = 'any'**, тобто видаляються всі рядки або стовбці (в залежності від ключового слова **axis**), \n",
    "що містять хоча б одне відсутнє значення. Можна, можливо також вказати значення **how = 'all'**, при цьому будуть \n",
    "відкидатися тільки рядки/стовпці, все значення в яких відсутні: "
   ]
  },
  {
   "cell_type": "code",
   "execution_count": null,
   "metadata": {},
   "outputs": [],
   "source": []
  },
  {
   "cell_type": "code",
   "execution_count": null,
   "metadata": {},
   "outputs": [],
   "source": [
    "#видалення всіх стовбців, які містять всі відсутні значення\n"
   ]
  },
  {
   "cell_type": "markdown",
   "metadata": {},
   "source": [
    "Для більш точного контролю можна задати за допомогою параметра **thresh** мінімальну кількість непорожніх значень для \n",
    "рядка/стовбця, при якому він не видаляється: "
   ]
  },
  {
   "cell_type": "code",
   "execution_count": null,
   "metadata": {},
   "outputs": [],
   "source": [
    "#видалення всіх рядків, які містять мінімум thres наявних значень\n"
   ]
  },
  {
   "cell_type": "markdown",
   "metadata": {},
   "source": [
    "В даному випадку видаляються перший і останній рядки, оскільки в них міститься тільки по два непорожніх значення. "
   ]
  },
  {
   "cell_type": "markdown",
   "metadata": {},
   "source": [
    "#### Заповнення відсутніх значень"
   ]
  },
  {
   "cell_type": "markdown",
   "metadata": {},
   "source": [
    "Іноді краще замість видалення порожніх значень заповнити їх якимось допустимим значенням. Це значення може бути фіксованим,\n",
    "наприклад нулем, або відновленим значенням на основі «хороших» даних. Це можна зробити шляхом заміни у вихідних даних,\n",
    "використовуючи метод isnull() як маску. Але це настільки поширена операція, що бібліотека Pandas надає метод **fillna()**, \n",
    "який повертає копію масиву з заміненими відсутніми значеннями. "
   ]
  },
  {
   "cell_type": "code",
   "execution_count": null,
   "metadata": {},
   "outputs": [],
   "source": []
  },
  {
   "cell_type": "markdown",
   "metadata": {},
   "source": [
    "Можна заповнити NA-елементи одним фіксованим значенням, наприклад, нулем: "
   ]
  },
  {
   "cell_type": "code",
   "execution_count": null,
   "metadata": {},
   "outputs": [],
   "source": [
    "#заповнення NaN нулем\n"
   ]
  },
  {
   "cell_type": "markdown",
   "metadata": {},
   "source": [
    "Можна задати параметр заповнення за напрямом «вперед», копіюючи попереднє значення в наступну комірку: "
   ]
  },
  {
   "cell_type": "code",
   "execution_count": null,
   "metadata": {},
   "outputs": [],
   "source": [
    "#заповнення NaN по напрямку вперед\n",
    "    "
   ]
  },
  {
   "cell_type": "markdown",
   "metadata": {},
   "source": [
    "Або можна задати параметр заповнення у напрямку «назад», копіюючи таке значення в попередню комірку: "
   ]
  },
  {
   "cell_type": "code",
   "execution_count": null,
   "metadata": {},
   "outputs": [],
   "source": [
    "#заповнення NaN по напрямку назад\n"
   ]
  },
  {
   "cell_type": "markdown",
   "metadata": {},
   "source": [
    "Для об'єктів DataFrame операції аналогічні, але ще можна задати вісь, за якою буде виконуватися заповнення: "
   ]
  },
  {
   "cell_type": "code",
   "execution_count": null,
   "metadata": {},
   "outputs": [],
   "source": []
  },
  {
   "cell_type": "code",
   "execution_count": null,
   "metadata": {},
   "outputs": [],
   "source": []
  },
  {
   "cell_type": "code",
   "execution_count": null,
   "metadata": {},
   "outputs": [],
   "source": [
    "#заповнення NaN по рядках по напрямку вперед\n"
   ]
  },
  {
   "cell_type": "code",
   "execution_count": null,
   "metadata": {},
   "outputs": [],
   "source": [
    "#заповнення NaN по стобвцях по напрямку вперед\n"
   ]
  },
  {
   "cell_type": "markdown",
   "metadata": {},
   "source": [
    "Зверніть увагу, що якщо при заповненні за напрямом «вперед» попереднього значення немає, то NA-значення залишається незаповненим. "
   ]
  }
 ],
 "metadata": {
  "kernelspec": {
   "display_name": "Python 3",
   "language": "python",
   "name": "python3"
  },
  "language_info": {
   "codemirror_mode": {
    "name": "ipython",
    "version": 3
   },
   "file_extension": ".py",
   "mimetype": "text/x-python",
   "name": "python",
   "nbconvert_exporter": "python",
   "pygments_lexer": "ipython3",
   "version": "3.8.5"
  }
 },
 "nbformat": 4,
 "nbformat_minor": 2
}
