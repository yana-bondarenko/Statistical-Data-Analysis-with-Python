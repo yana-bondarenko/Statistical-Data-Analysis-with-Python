{
 "cells": [
  {
   "cell_type": "markdown",
   "metadata": {},
   "source": [
    "“Python Data Science Handbook by Jake VanderPlas (O’Reilly). Copyright 2017 Jake VanderPlas, 978-1-491-91205-8.”"
   ]
  },
  {
   "cell_type": "markdown",
   "metadata": {},
   "source": [
    "## Бібліотека Pandas. Частина 3. Ієрархічна індексація "
   ]
  },
  {
   "cell_type": "markdown",
   "metadata": {},
   "source": [
    "Ми розглянули одномірні і двовимірні дані, що знаходяться в об'єктах Series і DataFrame бібліотеки Pandas.\n",
    "\n",
    "Часто буває зручно вийти за межі двох вимірів і зберігати багатовимірні дані, тобто дані,\n",
    "індексовані по більш ніж двом ключам. Хоча бібліотека Pandas надає об'єкти Panel і Panel4D, що дозволяють зберігати тривимірні\n",
    "і чотиривимірні дані, на практиці часто використовується ієрархічна індексація (hierarchical indexing),\n",
    "або мультиіндексація (multi-indexing), для включення в один індекс декількох\n",
    "рівнів. При цьому багатовимірні дані можуть бути компактно представлені в уже\n",
    "звичних нам одновимірних об'єктах Series і двовимірних об'єктах DataFrame. "
   ]
  },
  {
   "cell_type": "code",
   "execution_count": null,
   "metadata": {},
   "outputs": [],
   "source": [
    "import pandas as pd\n",
    "import numpy as np"
   ]
  },
  {
   "cell_type": "markdown",
   "metadata": {},
   "source": [
    "### Мультиіндексний об'єкт Series "
   ]
  },
  {
   "cell_type": "markdown",
   "metadata": {},
   "source": [
    "Розглянемо, як можна подати двовимірні дані в одновимірному об'єкті Series. \n",
    "Вивчимо ряд даних, в якому у кожної точки є символьний і числовий ключі. "
   ]
  },
  {
   "cell_type": "markdown",
   "metadata": {},
   "source": [
    "#### Поганий спосіб"
   ]
  },
  {
   "cell_type": "markdown",
   "metadata": {},
   "source": [
    "Нехай нам потрібно проаналізувати дані про населення штатів за два різних роки. "
   ]
  },
  {
   "cell_type": "code",
   "execution_count": null,
   "metadata": {},
   "outputs": [],
   "source": [
    "# нехай наші індекси - кортежі \n"
   ]
  },
  {
   "cell_type": "markdown",
   "metadata": {},
   "source": [
    "Якщо застосовується така схема індексації, то з'являється можливість безпосередньо індексувати або виконувати зріз ряду даних на основі такого мультиіндексу: "
   ]
  },
  {
   "cell_type": "code",
   "execution_count": null,
   "metadata": {},
   "outputs": [],
   "source": []
  },
  {
   "cell_type": "markdown",
   "metadata": {},
   "source": [
    "Але на цьому зручність закінчується. Наприклад, при необхідності вибрати всі значення з 2010 року доведеться виконати громіздке (і потенційно повільне) очищення даних: "
   ]
  },
  {
   "cell_type": "code",
   "execution_count": null,
   "metadata": {},
   "outputs": [],
   "source": []
  },
  {
   "cell_type": "markdown",
   "metadata": {},
   "source": [
    "Це хоча і призводить до бажаного результату, але набагато менш витончено (і далеко не так ефективно), як використання синтаксису зрізів в бібліотеці Pandas. "
   ]
  },
  {
   "cell_type": "markdown",
   "metadata": {},
   "source": [
    "#### Кращий спосіб"
   ]
  },
  {
   "cell_type": "markdown",
   "metadata": {},
   "source": [
    "У бібліотеці Pandas є кращий спосіб виконання таких операцій. \n",
    "Наша індексація, заснована на кортежах, по суті, є примітивним мультиіндекс, \n",
    "і тип MultiIndex бібліотеки Pandas якраз забезпечує необхідні нам\n",
    "операції. Створити мультиіндекс з кортежів можна наступним чином: "
   ]
  },
  {
   "cell_type": "code",
   "execution_count": null,
   "metadata": {},
   "outputs": [],
   "source": []
  },
  {
   "cell_type": "markdown",
   "metadata": {},
   "source": [
    "Проіндексувавши заново наші дані про населення за допомогою MultiIndex, ми здобуваємо ієрархічне подання даних: "
   ]
  },
  {
   "cell_type": "code",
   "execution_count": null,
   "metadata": {},
   "outputs": [],
   "source": []
  },
  {
   "cell_type": "markdown",
   "metadata": {},
   "source": [
    "Перші два стовбці подання об'єкта Series відображають значення мультиіндексу, а третій стовпець - дані. \n",
    "Зверніть увагу, що в першому стовбці відсутні деякі елементи: в цьому мультиіндексному поданні всі\n",
    "пропущені елементи означають те ж значення, що і рядком вище. "
   ]
  },
  {
   "cell_type": "markdown",
   "metadata": {},
   "source": [
    "Іноді буває зручно задати назви для рівнів об'єкта MultiIndex. "
   ]
  },
  {
   "cell_type": "code",
   "execution_count": null,
   "metadata": {},
   "outputs": [],
   "source": []
  },
  {
   "cell_type": "markdown",
   "metadata": {},
   "source": [
    "Тепер для вибору даних можна просто скористатися синтаксисом зрізів бібліотеки Pandas: "
   ]
  },
  {
   "cell_type": "code",
   "execution_count": null,
   "metadata": {},
   "outputs": [],
   "source": [
    "# дані за 2010 рік\n"
   ]
  },
  {
   "cell_type": "markdown",
   "metadata": {},
   "source": [
    "Результат являє собою масив з одиночним індексом і тільки тими ключами, які нас цікавлять. \n",
    "Такий синтаксис набагато зручніше (а операція виконується набагато швидше!), ніж мультиіндексне рішення на основі кортежів,\n",
    "з якого ми почали (див. Поганий спосіб)."
   ]
  },
  {
   "cell_type": "code",
   "execution_count": null,
   "metadata": {},
   "outputs": [],
   "source": [
    "# дані по California\n"
   ]
  },
  {
   "cell_type": "code",
   "execution_count": null,
   "metadata": {},
   "outputs": [],
   "source": [
    "# дані по California за 2010 рік\n"
   ]
  },
  {
   "cell_type": "markdown",
   "metadata": {},
   "source": [
    "Зараз ми розглянемо докладніше подібні операції індексації над ієрархічно індексованими даними. "
   ]
  },
  {
   "cell_type": "markdown",
   "metadata": {},
   "source": [
    "#### Мультиіндекс як додатковий вимір даних"
   ]
  },
  {
   "cell_type": "markdown",
   "metadata": {},
   "source": [
    "Ми можемо зберігати ті ж самі дані за допомогою простого об'єкта DataFrame з індексом і мітками стовпців. \n",
    "Насправді бібліотека Pandas створена з урахуванням цієї рівнозначності. \n",
    "Метод **unstack()** може швидко перетворити мультиіндексний об'єкт Series в індексований звичайний об'єкт DataFrame: "
   ]
  },
  {
   "cell_type": "code",
   "execution_count": null,
   "metadata": {},
   "outputs": [],
   "source": [
    "# звичайний об'єкт DataFrame\n"
   ]
  },
  {
   "cell_type": "markdown",
   "metadata": {},
   "source": [
    "Як і можна було очікувати, метод **stack()** виконує протилежну операцію: "
   ]
  },
  {
   "cell_type": "code",
   "execution_count": null,
   "metadata": {},
   "outputs": [],
   "source": [
    "# мультиіндексний об'єкт Series \n"
   ]
  },
  {
   "cell_type": "markdown",
   "metadata": {},
   "source": [
    "Чому взагалі має сенс возитися з ієрархічної індексацією? Причина проста: \n",
    "аналогічно тому, як ми використовували мультиіндексацію для подання двовимірних даних \n",
    "в одновимірному об'єкті Series, можна використовувати її для подання даних з трьома або більше вимірами \n",
    "в об'єктах Series або DataFrame. \n",
    "\n",
    "Кожен новий рівень в мультиіндексі представляє додатковий вимір даних. Завдяки використанню цієї властивості \n",
    "ми отримуємо набагато більше свободи в поданні типів даних. Наприклад, нам може знадобитися додати в демографічні дані \n",
    "по кожному штату за кожен рік ще один стовпець (припустимо, кількість населення молодше 18 років). Завдяки типу\n",
    "MultiIndex це зводиться до додавання ще одного стовпчика в об'єкт DataFrame: "
   ]
  },
  {
   "cell_type": "code",
   "execution_count": null,
   "metadata": {},
   "outputs": [],
   "source": []
  },
  {
   "cell_type": "code",
   "execution_count": null,
   "metadata": {},
   "outputs": [],
   "source": [
    "# мультиіндексний об'єкт Series \n"
   ]
  },
  {
   "cell_type": "markdown",
   "metadata": {},
   "source": [
    "Всі універсальні функції працюють з ієрархічними індексами. У наступному фрагменті коду ми обчислюємо по роках частку населення молодше 18 років на основі вищенаведених даних: "
   ]
  },
  {
   "cell_type": "code",
   "execution_count": null,
   "metadata": {},
   "outputs": [],
   "source": [
    "# мультиіндексний об'єкт Series \n"
   ]
  },
  {
   "cell_type": "code",
   "execution_count": null,
   "metadata": {},
   "outputs": [],
   "source": [
    "# звичайний об'єкт DataFrame\n"
   ]
  },
  {
   "cell_type": "markdown",
   "metadata": {},
   "source": [
    "Це дає можливість легко і швидко маніпулювати навіть багатовимірними даними і досліджувати їх. "
   ]
  },
  {
   "cell_type": "markdown",
   "metadata": {},
   "source": [
    "### Методи створення мультиіндексів "
   ]
  },
  {
   "cell_type": "markdown",
   "metadata": {},
   "source": [
    "Найбільш простий метод створення мультиіндексного об'єкту Series або DataFrame - передати в конструктор список з двох або більше індексованих масивів,\n",
    "наприклад: "
   ]
  },
  {
   "cell_type": "code",
   "execution_count": null,
   "metadata": {},
   "outputs": [],
   "source": []
  },
  {
   "cell_type": "markdown",
   "metadata": {},
   "source": [
    "Якщо передати словник з відповідними кортежами як ключами, бібліотека Pandas автоматично розпізнає такий синтаксис \n",
    "і буде за замовчуванням використовувати мультиіндекс: "
   ]
  },
  {
   "cell_type": "code",
   "execution_count": null,
   "metadata": {},
   "outputs": [],
   "source": []
  },
  {
   "cell_type": "markdown",
   "metadata": {},
   "source": [
    "Проте іноді буває зручно створювати об'єкти MultiIndex явно. Далі ми розглянемо декілька методів для цього. "
   ]
  },
  {
   "cell_type": "markdown",
   "metadata": {},
   "source": [
    "#### Явні конструктори для об'єктів MultiIndex"
   ]
  },
  {
   "cell_type": "markdown",
   "metadata": {},
   "source": [
    "При формуванні індексу для більшої гнучкості можна скористатися наявними в класі pd.MultiIndex конструкторами-методами класу. \n",
    "Наприклад, можна сформувати об'єкт MultiIndex з простого списку масивів, які задають значення індексу в кожному з рівнів: "
   ]
  },
  {
   "cell_type": "code",
   "execution_count": null,
   "metadata": {},
   "outputs": [],
   "source": []
  },
  {
   "cell_type": "markdown",
   "metadata": {},
   "source": [
    "Або зі списку кортежів, які задають всі значення індексу в кожній з точок: "
   ]
  },
  {
   "cell_type": "code",
   "execution_count": null,
   "metadata": {},
   "outputs": [],
   "source": []
  },
  {
   "cell_type": "markdown",
   "metadata": {},
   "source": [
    "Або з декартового добутка звичайних індексів: "
   ]
  },
  {
   "cell_type": "code",
   "execution_count": null,
   "metadata": {},
   "outputs": [],
   "source": []
  },
  {
   "cell_type": "markdown",
   "metadata": {},
   "source": [
    "Або з об'єкту DataFrame: "
   ]
  },
  {
   "cell_type": "code",
   "execution_count": null,
   "metadata": {},
   "outputs": [],
   "source": []
  },
  {
   "cell_type": "markdown",
   "metadata": {},
   "source": [
    "Будь-який з цих об'єктів можна передати як аргумент методу **index** при створенні об'єктів Series або DataFrame або \n",
    "методу **reindex** вже існуючих об'єктів Series або DataFrame. "
   ]
  },
  {
   "cell_type": "markdown",
   "metadata": {},
   "source": [
    "#### Мультиіндекс для стовпців"
   ]
  },
  {
   "cell_type": "markdown",
   "metadata": {},
   "source": [
    "В об'єктах DataFrame рядки і стовпці повністю симетричні, і у стовпців, як і у рядків, \n",
    "може бути кілька рівнів індексів. Наведемо приклад, який представляє собою імітацію деяких (в чомусь досить\n",
    "реалістичних) медичних даних: "
   ]
  },
  {
   "cell_type": "code",
   "execution_count": null,
   "metadata": {},
   "outputs": [],
   "source": [
    "# Ієрархічні індекси і стовпці \n",
    "\n",
    "# пульс (HR, від англ. Heart rate - «частота серцебиття») і температура (temperature). "
   ]
  },
  {
   "cell_type": "code",
   "execution_count": null,
   "metadata": {},
   "outputs": [],
   "source": [
    "# Створюємо імітаційні дані \n"
   ]
  },
  {
   "cell_type": "code",
   "execution_count": null,
   "metadata": {},
   "outputs": [],
   "source": [
    "# Створюємо об'єкт DataFrame \n"
   ]
  },
  {
   "cell_type": "markdown",
   "metadata": {},
   "source": [
    "Як бачимо, мультиіндексація як рядків, так і стовпців може виявитися надзвичайно зручною. \n",
    "По суті справи, це чотиривимірні дані з наступними вимірами: суб'єкт, вимірюваний параметр, рік і номер відвідування. \n",
    "При наявності цього ми можемо, наприклад, індексувати стовпець верхнього рівня по імені людини\n",
    "і отримати об'єкт DataFrame, що містить інформацію тільки про цю людину: "
   ]
  },
  {
   "cell_type": "code",
   "execution_count": null,
   "metadata": {},
   "outputs": [],
   "source": []
  },
  {
   "cell_type": "markdown",
   "metadata": {},
   "source": [
    "Для складних записів, що містять кілька неодноразово вимірюваних параметрів для багатьох суб'єктів (людей, країн, міст і т. д.), Буде\n",
    "виключно зручно використовувати ієрархічні рядки і стовпці! "
   ]
  },
  {
   "cell_type": "markdown",
   "metadata": {},
   "source": [
    "### Індексація і зрізи по мультиіндексу "
   ]
  },
  {
   "cell_type": "markdown",
   "metadata": {},
   "source": [
    "Об'єкт MultiIndex спроектований так, щоб індексація і зрізи по мультиіндексу були інтуїтивно зрозумілими, \n",
    "особливо якщо думати про індекси як про додаткові виміри. Вивчимо спочатку індексацію мультиіндексного\n",
    "об'єкту Series, а потім мультиіндексного об'єкту DataFrame. "
   ]
  },
  {
   "cell_type": "markdown",
   "metadata": {},
   "source": [
    "#### Мультиіндексація об'єктів Series "
   ]
  },
  {
   "cell_type": "markdown",
   "metadata": {},
   "source": [
    "Розглянемо мультиіндексний об'єкт Series, що містить кількість населення по штатах: "
   ]
  },
  {
   "cell_type": "code",
   "execution_count": null,
   "metadata": {},
   "outputs": [],
   "source": []
  },
  {
   "cell_type": "markdown",
   "metadata": {},
   "source": [
    "Можна звертатися до окремих елементів: "
   ]
  },
  {
   "cell_type": "code",
   "execution_count": null,
   "metadata": {},
   "outputs": [],
   "source": []
  },
  {
   "cell_type": "markdown",
   "metadata": {},
   "source": [
    "Об'єкт MultiIndex підтримує також часткову індексацію (partial indexing), тобто індексацію тільки по одному з рівнів індексу. \n",
    "Результатом буде також об'єкт Series, з більш низькорівневими індексами: "
   ]
  },
  {
   "cell_type": "code",
   "execution_count": null,
   "metadata": {},
   "outputs": [],
   "source": []
  },
  {
   "cell_type": "markdown",
   "metadata": {},
   "source": [
    "Можливо також виконання часткових зрізів, якщо мультиіндекс відсортований: "
   ]
  },
  {
   "cell_type": "code",
   "execution_count": null,
   "metadata": {},
   "outputs": [],
   "source": []
  },
  {
   "cell_type": "markdown",
   "metadata": {},
   "source": [
    "За допомогою відсортованих індексів можна виконувати часткову індексацію по нижнім рівнями, вказавши порожній зріз в першому індексі:"
   ]
  },
  {
   "cell_type": "code",
   "execution_count": null,
   "metadata": {},
   "outputs": [],
   "source": []
  },
  {
   "cell_type": "markdown",
   "metadata": {},
   "source": [
    "Інші типи індексації та вибірки теж працюють. Вибірка даних на основі булевої маски: "
   ]
  },
  {
   "cell_type": "code",
   "execution_count": null,
   "metadata": {},
   "outputs": [],
   "source": []
  },
  {
   "cell_type": "markdown",
   "metadata": {},
   "source": [
    "Вибірка за допомогою \"примхливої індексації\":"
   ]
  },
  {
   "cell_type": "code",
   "execution_count": null,
   "metadata": {},
   "outputs": [],
   "source": []
  },
  {
   "cell_type": "markdown",
   "metadata": {},
   "source": [
    "#### Мультиіндексація об'єктів DataFrame"
   ]
  },
  {
   "cell_type": "markdown",
   "metadata": {},
   "source": [
    "Мультиіндексні об'єкти DataFrame поводяться аналогічно. Розглянемо наш модельний медичний об'єкт DataFrame: "
   ]
  },
  {
   "cell_type": "code",
   "execution_count": null,
   "metadata": {},
   "outputs": [],
   "source": []
  },
  {
   "cell_type": "markdown",
   "metadata": {},
   "source": [
    "В об'єктах DataFrame основними є стовпці, і синтаксис для мультиіндексних Series застосовується також до стовпців.\n",
    "Наприклад, можна дізнатися пульс Гвідо за допомогою простої операції: "
   ]
  },
  {
   "cell_type": "code",
   "execution_count": null,
   "metadata": {},
   "outputs": [],
   "source": []
  },
  {
   "cell_type": "markdown",
   "metadata": {},
   "source": [
    "Як і у випадку з одиночним індексом, можна використовувати індексатори loc, iloc. "
   ]
  },
  {
   "cell_type": "code",
   "execution_count": null,
   "metadata": {},
   "outputs": [],
   "source": []
  },
  {
   "cell_type": "code",
   "execution_count": null,
   "metadata": {},
   "outputs": [],
   "source": []
  },
  {
   "cell_type": "markdown",
   "metadata": {},
   "source": [
    "Працювати зі зрізами в подібних кортежі індексів не дуже зручно: спроба створити зріз в кортежі може привезти до синтаксичної помилки: "
   ]
  },
  {
   "cell_type": "code",
   "execution_count": null,
   "metadata": {},
   "outputs": [],
   "source": []
  },
  {
   "cell_type": "markdown",
   "metadata": {},
   "source": [
    "Уникнути цього можна, сформувавши зріз явно за допомогою вбудованої функції Python **slice()**, але краще в даному випадку \n",
    "використовувати об'єкт **IndexSlice**, призначений бібліотекою Pandas якраз для подібної ситуації. Наприклад: "
   ]
  },
  {
   "cell_type": "code",
   "execution_count": null,
   "metadata": {},
   "outputs": [],
   "source": []
  },
  {
   "cell_type": "markdown",
   "metadata": {},
   "source": [
    "Існує безліч способів взаємодії з даними в мультиіндексних об'єктах Series і DataFrame, і кращий спосіб звикнути до них - почати\n",
    "з ними експериментувати! "
   ]
  },
  {
   "cell_type": "markdown",
   "metadata": {},
   "source": [
    "### Перегрупування мультиіндексів"
   ]
  },
  {
   "cell_type": "markdown",
   "metadata": {},
   "source": [
    "Один з ключів до ефективної роботи з мультиіндексними даними - вміння ефективно перетворювати дані. \n",
    "Існує чимало операцій, що зберігають всю інформацію з набору даних, але перетворюють її заради зручності\n",
    "проведення різних обчислень. Ми розглянули приклад цього з методами **stack()** і **unstack()**, але \n",
    "є набагато більше способів точного контролю над перегрупуванням даних між ієрархічними індексами і стовпцями. "
   ]
  },
  {
   "cell_type": "markdown",
   "metadata": {},
   "source": [
    "#### Відсортовані та невідсортовані індекси"
   ]
  },
  {
   "cell_type": "markdown",
   "metadata": {},
   "source": [
    "Більшість операцій зрізів з мультиіндексами завершиться помилкою, якщо індекс НЕ ВІДСОРТОВАНИЙ. Розглянемо це питання.\n",
    "Почнемо зі створення простих мультиіндексних даних, індекси в яких НЕ відсортовані лексикографічно: "
   ]
  },
  {
   "cell_type": "code",
   "execution_count": null,
   "metadata": {},
   "outputs": [],
   "source": []
  },
  {
   "cell_type": "markdown",
   "metadata": {},
   "source": [
    "Якщо ми спробуємо виконати частковий зріз цього індексу, то отримаємо помилку: "
   ]
  },
  {
   "cell_type": "code",
   "execution_count": null,
   "metadata": {},
   "outputs": [],
   "source": []
  },
  {
   "cell_type": "markdown",
   "metadata": {},
   "source": [
    "Хоча з повідомлення про помилку ('Довжина ключа була більше, ніж глибина лексикографічного сортування об'єкта MultiIndex') це не зрозуміло, помилка генерується, тому що об'єкт MultiIndex НЕ відсортований. \n",
    "З різних причин часткові зрізи і інші подібні операції вимагають, щоб рівні мультиіндексів були\n",
    "відсортовані (лексикографічно впорядковані). Бібліотека Pandas надає безліч зручних інструментів для виконання подібного\n",
    "сортування. Як приклади можемо вказати методи **sort_index()** і **sortlevel()** об'єкта DataFrame. \n",
    "Ми скористаємося найпростішим з них - методом **sort_index()**: "
   ]
  },
  {
   "cell_type": "code",
   "execution_count": null,
   "metadata": {},
   "outputs": [],
   "source": []
  },
  {
   "cell_type": "markdown",
   "metadata": {},
   "source": [
    "Після такого сортування індексу частковий зріз буде виконуватися правильно: "
   ]
  },
  {
   "cell_type": "code",
   "execution_count": null,
   "metadata": {},
   "outputs": [],
   "source": []
  },
  {
   "cell_type": "markdown",
   "metadata": {},
   "source": [
    "#### Виконання над індексами операцій stack і unstack "
   ]
  },
  {
   "cell_type": "markdown",
   "metadata": {},
   "source": [
    "Існує можливість перетворювати набір даних з вертикального мультиіндексного в двовимірне подання, при необхідності\n",
    "вказуючи необхідний рівень **level**: "
   ]
  },
  {
   "cell_type": "code",
   "execution_count": null,
   "metadata": {},
   "outputs": [],
   "source": []
  },
  {
   "cell_type": "code",
   "execution_count": null,
   "metadata": {},
   "outputs": [],
   "source": []
  },
  {
   "cell_type": "markdown",
   "metadata": {},
   "source": [
    "Метод **unstack()** протилежний за дією методу **stack()**, яким можна скористатися, щоб отримати назад вихідний ряд даних: "
   ]
  },
  {
   "cell_type": "code",
   "execution_count": null,
   "metadata": {},
   "outputs": [],
   "source": []
  },
  {
   "cell_type": "markdown",
   "metadata": {},
   "source": [
    "#### Створення і перебудова індексів "
   ]
  },
  {
   "cell_type": "markdown",
   "metadata": {},
   "source": [
    "Ще один спосіб перегрупування ієрархічних даних - перетворити мітки індексу в стовпці за допомогою методу **reset_index**. \n",
    "Результатом виклику цього методу для нашого асоціативного словника населення буде об'єкт DataFrame зі\n",
    "стовпцями state (штат) і year (рік), що містять інформацію, яка раніше знаходилася в індексі. \n",
    "Для більшої ясності можна при бажанні поставити назву для подання у вигляді стовпців даних: "
   ]
  },
  {
   "cell_type": "code",
   "execution_count": null,
   "metadata": {},
   "outputs": [],
   "source": []
  },
  {
   "cell_type": "code",
   "execution_count": null,
   "metadata": {},
   "outputs": [],
   "source": []
  },
  {
   "cell_type": "markdown",
   "metadata": {},
   "source": [
    "При роботі з реальними даними вихідні вхідні дані дуже часто виглядають подібним чином, \n",
    "тому зручно створити об'єкт MultiIndex зі значень стовпців. \n",
    "Це можна зробити за допомогою методу **set_index** об'єкта DataFrame, що повертає мультиіндексний об'єкт DataFrame: "
   ]
  },
  {
   "cell_type": "code",
   "execution_count": null,
   "metadata": {},
   "outputs": [],
   "source": []
  },
  {
   "cell_type": "markdown",
   "metadata": {},
   "source": [
    "На практиці цей тип перебудови індексу - один з найбільш зручних способів при роботі з реальними наборами даних. "
   ]
  },
  {
   "cell_type": "markdown",
   "metadata": {},
   "source": [
    "### Агрегування за мультиіндексами "
   ]
  },
  {
   "cell_type": "markdown",
   "metadata": {},
   "source": [
    "У бібліотеці Pandas є вбудовані методи для агрегування даних, наприклад **mean()**, **sum()** і **max()**. \n",
    "У разі ієрархічно індексованих даних цим функціям можна передати параметр **level** для вказання підмножини даних, на яких\n",
    "буде обчислюватися зведений показник.\n",
    "\n",
    "Наприклад, повернемося до наших медичних даних: "
   ]
  },
  {
   "cell_type": "code",
   "execution_count": null,
   "metadata": {},
   "outputs": [],
   "source": []
  },
  {
   "cell_type": "markdown",
   "metadata": {},
   "source": [
    "Припустимо, нам потрібно усереднити результати вимірювань показників за двома візитам протягом року. \n",
    "Зробити це можна шляхом вказівки рівня індексу **level**, який ми хотіли б дослідити, в даному випадку року (year): "
   ]
  },
  {
   "cell_type": "code",
   "execution_count": null,
   "metadata": {},
   "outputs": [],
   "source": []
  },
  {
   "cell_type": "markdown",
   "metadata": {},
   "source": [
    "Далі, скориставшись ключовим словом **axis**, можна отримати і середнє значення за рівнями за стовпцями: "
   ]
  },
  {
   "cell_type": "code",
   "execution_count": null,
   "metadata": {},
   "outputs": [],
   "source": []
  },
  {
   "cell_type": "markdown",
   "metadata": {},
   "source": [
    "Так, всього двома рядками коду ми змогли знайти середній пульс і температуру по\n",
    "всім суб'єктам і візитам за кожен рік. Хоча наш приклад - всього лише модель,\n",
    "структура багатьох реальних наборів даних ієрархічна. "
   ]
  },
  {
   "cell_type": "markdown",
   "metadata": {},
   "source": [
    "У бібліотеці Pandas є ще кілька поки не охоплених нами структур даних, а саме об'єкти **pd.Panel** і **pd.Panel4D**. \n",
    "Їх можна розглядати як відповідно тривимірне і чотиривимірний узагальнення (одновимірної структури) об'єкта\n",
    "Series і (двовимірної структури) об'єкта DataFrame. Оскільки ви вже знайомі з індексацією даних в об'єктах Series і DataFrame \n",
    "і маніпуляціями над ними, то використання об'єктів Panel і Panel4D не повинно викликати у вас труднощів. \n",
    "\n",
    "Ми не будемо розглядати багатовимірні структури далі, оскільки, в більшості випадків мультііндексація - зручне\n",
    "і концептуально просте подання для даних більш високих розмірностей. "
   ]
  }
 ],
 "metadata": {
  "kernelspec": {
   "display_name": "Python 3",
   "language": "python",
   "name": "python3"
  },
  "language_info": {
   "codemirror_mode": {
    "name": "ipython",
    "version": 3
   },
   "file_extension": ".py",
   "mimetype": "text/x-python",
   "name": "python",
   "nbconvert_exporter": "python",
   "pygments_lexer": "ipython3",
   "version": "3.8.5"
  }
 },
 "nbformat": 4,
 "nbformat_minor": 4
}
