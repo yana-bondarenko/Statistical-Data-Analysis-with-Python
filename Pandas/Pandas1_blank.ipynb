{
 "cells": [
  {
   "cell_type": "markdown",
   "metadata": {},
   "source": [
    " “Python Data Science Handbook by\n",
    "Jake VanderPlas (O’Reilly). Copyright 2017 Jake VanderPlas, 978-1-491-91205-8.”"
   ]
  },
  {
   "cell_type": "markdown",
   "metadata": {},
   "source": [
    "## Бібліотека Pandas. Частина 1"
   ]
  },
  {
   "cell_type": "markdown",
   "metadata": {},
   "source": [
    "Імпорт бібіліотеки та перевірка її версії"
   ]
  },
  {
   "cell_type": "code",
   "execution_count": null,
   "metadata": {},
   "outputs": [],
   "source": []
  },
  {
   "cell_type": "markdown",
   "metadata": {},
   "source": [
    "Імпорт бібіліотеки pandas під псевдонімом pd"
   ]
  },
  {
   "cell_type": "code",
   "execution_count": null,
   "metadata": {},
   "outputs": [],
   "source": []
  },
  {
   "cell_type": "markdown",
   "metadata": {},
   "source": [
    "Для відображення всіх методів бібліотеки pandas використовуйте клавішу Tab"
   ]
  },
  {
   "cell_type": "code",
   "execution_count": null,
   "metadata": {},
   "outputs": [],
   "source": []
  },
  {
   "cell_type": "markdown",
   "metadata": {},
   "source": [
    "В бібліотеці Pandas реалізовано три структури даних: Series, DataFrame, Index.\n",
    "\n",
    "Об'єкт **Series** - одновимірний масив індексованих даних. \n",
    "\n",
    "Об'єкт **DataFrame** - двовимірний масив індексованих даних. \n",
    "\n",
    "Об'єкт **Index** - незмінний масив (immutable array) або впорядкована множина (ordered set). "
   ]
  },
  {
   "cell_type": "markdown",
   "metadata": {},
   "source": [
    "### Об'єкт Series бібліотеки Pandas"
   ]
  },
  {
   "cell_type": "markdown",
   "metadata": {},
   "source": [
    "Скористаємося синтаксисом **pd.Series(data, index)** для створення об'єкту Series з нуля."
   ]
  },
  {
   "cell_type": "markdown",
   "metadata": {},
   "source": [
    "#### Створення об'єкту Series зі списку"
   ]
  },
  {
   "cell_type": "code",
   "execution_count": null,
   "metadata": {},
   "outputs": [],
   "source": [
    "#список\n",
    "\n",
    "#цілочислова послідовність\n",
    "\n",
    "#або pd.Series([0.25,0.5,0.75,1.0])\n"
   ]
  },
  {
   "cell_type": "code",
   "execution_count": null,
   "metadata": {},
   "outputs": [],
   "source": [
    "# доступ до послідовності значень (numpy масив)\n"
   ]
  },
  {
   "cell_type": "code",
   "execution_count": null,
   "metadata": {},
   "outputs": [],
   "source": [
    "# доступ до послідовності індексів (об'єкт Index)\n"
   ]
  },
  {
   "cell_type": "code",
   "execution_count": null,
   "metadata": {},
   "outputs": [],
   "source": []
  },
  {
   "cell_type": "markdown",
   "metadata": {},
   "source": [
    "Аналогічно масивам бібліотеки NumPy, до даних data можна звертатися за відповідним їм індексом за допомогою використання квадратних\n",
    "дужок. "
   ]
  },
  {
   "cell_type": "code",
   "execution_count": null,
   "metadata": {},
   "outputs": [],
   "source": []
  },
  {
   "cell_type": "code",
   "execution_count": null,
   "metadata": {},
   "outputs": [],
   "source": []
  },
  {
   "cell_type": "markdown",
   "metadata": {},
   "source": [
    "#### Створення об'єкту Series зі скалярної величини"
   ]
  },
  {
   "cell_type": "code",
   "execution_count": null,
   "metadata": {},
   "outputs": [],
   "source": [
    "#скалярне значення\n",
    "\n",
    "#цілочислова послідовність\n",
    "\n",
    "#або pd.Series(5, index=index)\n"
   ]
  },
  {
   "cell_type": "code",
   "execution_count": null,
   "metadata": {},
   "outputs": [],
   "source": []
  },
  {
   "cell_type": "markdown",
   "metadata": {},
   "source": [
    "#### Створення об'єкту Series з масиву NumPy"
   ]
  },
  {
   "cell_type": "markdown",
   "metadata": {},
   "source": [
    "Може здатися, що об'єкт Series і одновимірний масив бібліотеки NumPy взаємозамінні. Основна відмінність між ними - **індекс**. У той час як індекс масиву NumPy, який використовується для доступу до значень, - **цілочисельний і описується неявно**, індекс об'єкта Series бібліотеки Pandas **описується явно і пов'язується зі значеннями**. "
   ]
  },
  {
   "cell_type": "markdown",
   "metadata": {},
   "source": [
    "Явна опис індексу розширює можливості об'єкту Series. Такий індекс не повинен бути цілим числом, а може складатися зі значень будь-якого потрібного типу.\n",
    "Наприклад, при бажанні ми можемо використовувати як індекс літери: "
   ]
  },
  {
   "cell_type": "code",
   "execution_count": null,
   "metadata": {},
   "outputs": [],
   "source": [
    "#масив NumPy \n",
    "\n",
    "\n"
   ]
  },
  {
   "cell_type": "code",
   "execution_count": null,
   "metadata": {},
   "outputs": [],
   "source": []
  },
  {
   "cell_type": "markdown",
   "metadata": {},
   "source": [
    "Можна навіть застосувати індекси, які є непослідовними або неузгодженими:"
   ]
  },
  {
   "cell_type": "code",
   "execution_count": null,
   "metadata": {},
   "outputs": [],
   "source": []
  },
  {
   "cell_type": "code",
   "execution_count": null,
   "metadata": {},
   "outputs": [],
   "source": []
  },
  {
   "cell_type": "markdown",
   "metadata": {},
   "source": [
    "#### Створення об'єкту Series зі словника"
   ]
  },
  {
   "cell_type": "markdown",
   "metadata": {},
   "source": [
    "Об'єкт Series бібліотеки Pandas можна розглядати як спеціалізований різновид словника мови Python. \n",
    "Словник - це структура, що задає відповідність довільних ключів набору довільних значень. \n",
    "\n",
    "За замовчуванням буде створено об'єкт Series з індексами, отриманими з ключів. \n",
    "Отже, для нього можливий звичайний доступ до елементів, такий же, як для словника:"
   ]
  },
  {
   "cell_type": "code",
   "execution_count": null,
   "metadata": {},
   "outputs": [],
   "source": [
    "# словник\n",
    "\n"
   ]
  },
  {
   "cell_type": "code",
   "execution_count": null,
   "metadata": {},
   "outputs": [],
   "source": []
  },
  {
   "cell_type": "markdown",
   "metadata": {},
   "source": [
    "Однак, на відміну від словника, об'єкт Series підтримує характерні для масивів операції, такі як зрізи: "
   ]
  },
  {
   "cell_type": "code",
   "execution_count": null,
   "metadata": {},
   "outputs": [],
   "source": []
  },
  {
   "cell_type": "markdown",
   "metadata": {},
   "source": [
    "### Об'єкт DataFrame бібліотеки Pandas"
   ]
  },
  {
   "cell_type": "markdown",
   "metadata": {},
   "source": [
    "Скористаємося синтаксисом pd.DataFrame(data) для створення об'єкту DataFrame з нуля."
   ]
  },
  {
   "cell_type": "markdown",
   "metadata": {},
   "source": [
    "Якщо об'єкт Series - аналог одновимірного масиву, об'єкт DataFrame - аналог двовимірного масиву з індексами рядків і іменами стовпців. "
   ]
  },
  {
   "cell_type": "markdown",
   "metadata": {},
   "source": [
    "#### Створення об'єкту DataFrame з одного об'єкту Series."
   ]
  },
  {
   "cell_type": "code",
   "execution_count": null,
   "metadata": {},
   "outputs": [],
   "source": [
    "# словник\n",
    "\n",
    "# об'єкт Series\n",
    "\n",
    "\n",
    "# об'єкт DataFrame"
   ]
  },
  {
   "cell_type": "markdown",
   "metadata": {},
   "source": [
    "#### Створення об'єкту DataFrame зі словника об'єктів Series"
   ]
  },
  {
   "cell_type": "code",
   "execution_count": null,
   "metadata": {},
   "outputs": [],
   "source": [
    "# словник\n",
    "\n",
    "# об'єкт Series\n"
   ]
  },
  {
   "cell_type": "code",
   "execution_count": null,
   "metadata": {},
   "outputs": [],
   "source": [
    "# словник\n",
    "\n",
    "# об'єкт Series\n"
   ]
  },
  {
   "cell_type": "code",
   "execution_count": null,
   "metadata": {},
   "outputs": [],
   "source": [
    "# словник об'єктів Series\n",
    "\n",
    "# об'єкт DataFrame\n"
   ]
  },
  {
   "cell_type": "code",
   "execution_count": null,
   "metadata": {},
   "outputs": [],
   "source": []
  },
  {
   "cell_type": "markdown",
   "metadata": {},
   "source": [
    "Аналогічно об'єкту Series у об'єкта DataFrame є атрибут index, що забезпечує доступ до мітках індексу: "
   ]
  },
  {
   "cell_type": "code",
   "execution_count": null,
   "metadata": {},
   "outputs": [],
   "source": []
  },
  {
   "cell_type": "markdown",
   "metadata": {},
   "source": [
    "Крім цього, у об'єкта DataFrame є атрибут columns, що представляє собою об'єкт Index, що містить назви стовпців  "
   ]
  },
  {
   "cell_type": "code",
   "execution_count": null,
   "metadata": {},
   "outputs": [],
   "source": []
  },
  {
   "cell_type": "markdown",
   "metadata": {},
   "source": [
    "#### Створення об'єкту DataFrame з двовимірного масиву NumPy"
   ]
  },
  {
   "cell_type": "markdown",
   "metadata": {},
   "source": [
    "Якщо у нас є двовимірний масив даних, ми можемо створити об'єкт DataFrame з будь-якими заданими іменами стовпців і індексів. "
   ]
  },
  {
   "cell_type": "code",
   "execution_count": null,
   "metadata": {},
   "outputs": [],
   "source": []
  },
  {
   "cell_type": "markdown",
   "metadata": {},
   "source": [
    "### Об'єкт Index бібліотеки Pandas"
   ]
  },
  {
   "cell_type": "markdown",
   "metadata": {},
   "source": [
    "Як об'єкт Series, так і об'єкт DataFrame містять явний індекс, що забезпечує можливість посилатися на дані і перетворювати їх. \n",
    "Об'єкт Index можна розглядати або як незмінний масив (immutable array), або як впорядковану множину (ordered set). "
   ]
  },
  {
   "cell_type": "markdown",
   "metadata": {},
   "source": [
    "#### Об'єкт Index як незмінний масив (immutable array)"
   ]
  },
  {
   "cell_type": "code",
   "execution_count": null,
   "metadata": {},
   "outputs": [],
   "source": []
  },
  {
   "cell_type": "markdown",
   "metadata": {},
   "source": [
    "Об'єкт Index має атрибути, які знайомі нам по масивам NumPy: ndim (розмірність), shape (форма), size (кількість значень), dtype (тип даних), itemsize (розмір в байтах одного елементу масиву), nbytes (розмір в байтах всього масиву)"
   ]
  },
  {
   "cell_type": "code",
   "execution_count": null,
   "metadata": {},
   "outputs": [],
   "source": []
  },
  {
   "cell_type": "markdown",
   "metadata": {},
   "source": [
    "Для здобуття окремих значень або зрізів використовується стандартна індексація:"
   ]
  },
  {
   "cell_type": "code",
   "execution_count": null,
   "metadata": {},
   "outputs": [],
   "source": []
  },
  {
   "cell_type": "code",
   "execution_count": null,
   "metadata": {},
   "outputs": [],
   "source": []
  },
  {
   "cell_type": "code",
   "execution_count": null,
   "metadata": {},
   "outputs": [],
   "source": []
  },
  {
   "cell_type": "code",
   "execution_count": null,
   "metadata": {},
   "outputs": [],
   "source": []
  },
  {
   "cell_type": "markdown",
   "metadata": {},
   "source": [
    "**Основна відмінність між об'єктами Index та масивами NumPy** - це незмінність індексів. Незмінність індексів робить безпечним спільне використання індексів декількома об'єктами DataFrame."
   ]
  },
  {
   "cell_type": "code",
   "execution_count": null,
   "metadata": {},
   "outputs": [],
   "source": []
  },
  {
   "cell_type": "markdown",
   "metadata": {},
   "source": [
    "#### Об'єкт Index як впорядкована множина (ordered set)"
   ]
  },
  {
   "cell_type": "markdown",
   "metadata": {},
   "source": [
    "Об'єкти бібліотеки Pandas створені для спрощення таких операцій, як об'єднання, перетин, різниця ті інші операції над наборами даних. \n",
    "Об'єднання, перетин, різницю та інші операції над множинами можна виконувати звичним чином з об'єктами Index.  "
   ]
  },
  {
   "cell_type": "code",
   "execution_count": null,
   "metadata": {},
   "outputs": [],
   "source": []
  },
  {
   "cell_type": "code",
   "execution_count": null,
   "metadata": {},
   "outputs": [],
   "source": [
    "#перетин множин indA.intersection(indB)\n"
   ]
  },
  {
   "cell_type": "code",
   "execution_count": null,
   "metadata": {},
   "outputs": [],
   "source": [
    "#об'єднання множин \n"
   ]
  },
  {
   "cell_type": "code",
   "execution_count": null,
   "metadata": {},
   "outputs": [],
   "source": [
    "#симетрична різниця множин \n"
   ]
  },
  {
   "cell_type": "markdown",
   "metadata": {},
   "source": [
    "## Індексація та вибірка даних в Pandas"
   ]
  },
  {
   "cell_type": "markdown",
   "metadata": {},
   "source": [
    "### Вибірка даних з об'єкту Series"
   ]
  },
  {
   "cell_type": "markdown",
   "metadata": {},
   "source": [
    "Об'єкт Series багато в чому поводиться подібно одновимірному масиву бібліотеки NumPy і стандартному словникові мови Python. "
   ]
  },
  {
   "cell_type": "code",
   "execution_count": null,
   "metadata": {},
   "outputs": [],
   "source": []
  },
  {
   "cell_type": "code",
   "execution_count": null,
   "metadata": {},
   "outputs": [],
   "source": [
    "#розширення об'єкту Series за допомогою присвоєння значення для нового значення індексу\n"
   ]
  },
  {
   "cell_type": "markdown",
   "metadata": {},
   "source": [
    "Зверніть увагу, що при виконанні зрізу за допомогою явного індексу (data ['a': 'c']) значення,\n",
    "відповідне останньому індексу, включається в зріз, а при зрізі за допомогою неявного індексу (data [0: 2]) - не включається. "
   ]
  },
  {
   "cell_type": "code",
   "execution_count": null,
   "metadata": {},
   "outputs": [],
   "source": [
    "#зріз за допомогою явного індексу (останнє значення включається до зрізу)\n"
   ]
  },
  {
   "cell_type": "code",
   "execution_count": null,
   "metadata": {},
   "outputs": [],
   "source": [
    "#зріз за допомогою неявного цілочислового індексу (останнє значення не включається до зрізу)\n"
   ]
  },
  {
   "cell_type": "code",
   "execution_count": null,
   "metadata": {},
   "outputs": [],
   "source": [
    "#маска\n"
   ]
  },
  {
   "cell_type": "code",
   "execution_count": null,
   "metadata": {},
   "outputs": [],
   "source": [
    "#\"примхлива індексація\"\n",
    " "
   ]
  },
  {
   "cell_type": "markdown",
   "metadata": {},
   "source": [
    "### Атрибути-індексатори loc, iloc"
   ]
  },
  {
   "cell_type": "markdown",
   "metadata": {},
   "source": [
    "Розглянемо приклад. При наявності у об'єкта Series явного целочисленного індексу операція індексації (data [1]) \n",
    "буде використати наявні індекси, а операція зрізу (data [1: 3]) - неявний індекс в стилі мови Python.  "
   ]
  },
  {
   "cell_type": "code",
   "execution_count": null,
   "metadata": {},
   "outputs": [],
   "source": []
  },
  {
   "cell_type": "code",
   "execution_count": null,
   "metadata": {},
   "outputs": [],
   "source": [
    "# використання явного індексу при індексації\n"
   ]
  },
  {
   "cell_type": "code",
   "execution_count": null,
   "metadata": {},
   "outputs": [],
   "source": [
    "# використання неявного індексу при зрізі\n"
   ]
  },
  {
   "cell_type": "markdown",
   "metadata": {},
   "source": [
    "Через цю потенційну плутанину в разі цілочисельних індексів в бібліотеці Pandas передбачені спеціальні атрибути-індексатори, \n",
    "що дозволяють явним чином застосовувати певні схеми індексації. "
   ]
  },
  {
   "cell_type": "markdown",
   "metadata": {},
   "source": [
    "Атрибут **loc** дозволяє виконати індексацію та зрізи з використанням явного індексу:"
   ]
  },
  {
   "cell_type": "code",
   "execution_count": null,
   "metadata": {},
   "outputs": [],
   "source": []
  },
  {
   "cell_type": "code",
   "execution_count": null,
   "metadata": {},
   "outputs": [],
   "source": []
  },
  {
   "cell_type": "code",
   "execution_count": null,
   "metadata": {},
   "outputs": [],
   "source": []
  },
  {
   "cell_type": "markdown",
   "metadata": {},
   "source": [
    "Атрибут **iloc** дозволяє виконати індексацію та зрізи з використанням неявного індексу:"
   ]
  },
  {
   "cell_type": "code",
   "execution_count": null,
   "metadata": {},
   "outputs": [],
   "source": []
  },
  {
   "cell_type": "code",
   "execution_count": null,
   "metadata": {},
   "outputs": [],
   "source": []
  },
  {
   "cell_type": "markdown",
   "metadata": {},
   "source": [
    "### Вибірка даних з об'єкту DataFrame"
   ]
  },
  {
   "cell_type": "markdown",
   "metadata": {},
   "source": [
    "#### Об'єкт DataFrame як словник"
   ]
  },
  {
   "cell_type": "code",
   "execution_count": null,
   "metadata": {},
   "outputs": [],
   "source": [
    "# словник\n",
    "\n",
    "# об'єкт Series\n"
   ]
  },
  {
   "cell_type": "code",
   "execution_count": null,
   "metadata": {},
   "outputs": [],
   "source": [
    "# словник\n",
    "\n",
    "# об'єкт Series\n"
   ]
  },
  {
   "cell_type": "code",
   "execution_count": null,
   "metadata": {},
   "outputs": [],
   "source": [
    "#словник об'єктів Series\n"
   ]
  },
  {
   "cell_type": "code",
   "execution_count": null,
   "metadata": {},
   "outputs": [],
   "source": [
    "#здобуття стовбця\n"
   ]
  },
  {
   "cell_type": "code",
   "execution_count": null,
   "metadata": {},
   "outputs": [],
   "source": [
    "#здобуття стовбця\n"
   ]
  },
  {
   "cell_type": "code",
   "execution_count": null,
   "metadata": {},
   "outputs": [],
   "source": [
    "#додавання стовбця\n"
   ]
  },
  {
   "cell_type": "code",
   "execution_count": null,
   "metadata": {},
   "outputs": [],
   "source": []
  },
  {
   "cell_type": "markdown",
   "metadata": {},
   "source": [
    "#### Об'єкт DataFrame як двовимірний масив"
   ]
  },
  {
   "cell_type": "markdown",
   "metadata": {},
   "source": [
    "Об'єкт DataFrame можна розглядати як двовимірний масив з розширеними можливостями. \n",
    "Погляньмо на вихідний масив даних за допомогою атрибута values: "
   ]
  },
  {
   "cell_type": "code",
   "execution_count": null,
   "metadata": {},
   "outputs": [],
   "source": []
  },
  {
   "cell_type": "markdown",
   "metadata": {},
   "source": [
    "Ми можемо виконати безліч звичних для масивів дій над об'єктом DataFrame. Наприклад, транспонувати весь DataFrame, помінявши місцями рядки\n",
    "і стовпці: "
   ]
  },
  {
   "cell_type": "code",
   "execution_count": null,
   "metadata": {},
   "outputs": [],
   "source": []
  },
  {
   "cell_type": "markdown",
   "metadata": {},
   "source": [
    "Однак, коли мова заходить про індексацію об'єктів DataFrame, стає ясно, що індексація заважає нам розглядати їх просто як масиви NumPy. Зокрема, вказівка окремого індексу для масиву означає доступ до рядка: "
   ]
  },
  {
   "cell_type": "code",
   "execution_count": null,
   "metadata": {},
   "outputs": [],
   "source": []
  },
  {
   "cell_type": "markdown",
   "metadata": {},
   "source": [
    "а вказівка окремого «індексу» для об'єкта DataFrame - доступ до стобвця: "
   ]
  },
  {
   "cell_type": "code",
   "execution_count": null,
   "metadata": {},
   "outputs": [],
   "source": []
  },
  {
   "cell_type": "markdown",
   "metadata": {},
   "source": [
    "Отже, нам необхідний ще один тип синтаксису для індексації, аналогічної по стилю індексації масивів NumPy. \n",
    "Бібліотека Pandas застосовує згадані раніше індексатори loc, iloc.\n",
    "За допомогою індексатора iloc можна індексувати вихідний масив, як ніби це простий масив NumPy (використовуючи неявний\n",
    "синтаксис мови Python), але зі збереженням в результуючих даних міток об'єкта DataFrame для індексу і стовпців: "
   ]
  },
  {
   "cell_type": "code",
   "execution_count": null,
   "metadata": {},
   "outputs": [],
   "source": []
  },
  {
   "cell_type": "code",
   "execution_count": null,
   "metadata": {},
   "outputs": [],
   "source": []
  },
  {
   "cell_type": "code",
   "execution_count": null,
   "metadata": {},
   "outputs": [],
   "source": [
    "#маска та \"примхлива індексація\"\n"
   ]
  },
  {
   "cell_type": "code",
   "execution_count": null,
   "metadata": {},
   "outputs": [],
   "source": [
    "# зміна значення\n"
   ]
  },
  {
   "cell_type": "code",
   "execution_count": null,
   "metadata": {},
   "outputs": [],
   "source": [
    "#зріз по індексу рядка\n"
   ]
  },
  {
   "cell_type": "code",
   "execution_count": null,
   "metadata": {},
   "outputs": [],
   "source": [
    "#зріз по номеру рядка\n"
   ]
  },
  {
   "cell_type": "code",
   "execution_count": null,
   "metadata": {},
   "outputs": [],
   "source": [
    "#маска\n"
   ]
  }
 ],
 "metadata": {
  "kernelspec": {
   "display_name": "Python 3",
   "language": "python",
   "name": "python3"
  },
  "language_info": {
   "codemirror_mode": {
    "name": "ipython",
    "version": 3
   },
   "file_extension": ".py",
   "mimetype": "text/x-python",
   "name": "python",
   "nbconvert_exporter": "python",
   "pygments_lexer": "ipython3",
   "version": "3.8.5"
  }
 },
 "nbformat": 4,
 "nbformat_minor": 2
}
