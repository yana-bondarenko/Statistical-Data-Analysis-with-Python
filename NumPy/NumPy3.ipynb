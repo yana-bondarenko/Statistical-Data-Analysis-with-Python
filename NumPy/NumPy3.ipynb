{
 "cells": [
  {
   "cell_type": "markdown",
   "metadata": {},
   "source": [
    "“Python Data Science Handbook by Jake VanderPlas (O’Reilly). Copyright 2017 Jake VanderPlas, 978-1-491-91205-8.”"
   ]
  },
  {
   "cell_type": "markdown",
   "metadata": {},
   "source": [
    "## Бібліотека NumPy (Numerical Python). Частина 3"
   ]
  },
  {
   "cell_type": "markdown",
   "metadata": {},
   "source": [
    "### \"Примхлива\" індексація (fancy indexing)"
   ]
  },
  {
   "cell_type": "markdown",
   "metadata": {},
   "source": [
    "\"Примхлива\" індексація полягає в передачі масиву індексів з метою одночасного доступу до декількох елементів масиву."
   ]
  },
  {
   "cell_type": "code",
   "execution_count": null,
   "metadata": {},
   "outputs": [],
   "source": [
    "import numpy as np\n",
    "np.random.seed(42)\n",
    "x = np.random.randint(100, size=10) #масив розміром size=10 випадкових цілих чисел на [1, 100)\n",
    "print(x)"
   ]
  },
  {
   "cell_type": "code",
   "execution_count": null,
   "metadata": {},
   "outputs": [],
   "source": [
    "#1 спосіб. Звичайний доступ до декілької елементів масиву\n",
    "[x[3],x[7],x[4],x[5]] "
   ]
  },
  {
   "cell_type": "code",
   "execution_count": null,
   "metadata": {},
   "outputs": [],
   "source": [
    "#2 спосіб. \"Примхлива індексація\"\n",
    "ind = np.array([3,7,4,5])\n",
    "x[ind] "
   ]
  },
  {
   "cell_type": "markdown",
   "metadata": {},
   "source": [
    "Важливо пам'ятати, що у випадку \"примхливої\" індексації форма результату відображає форму масиву індексів, а не форму індексованого масиву."
   ]
  },
  {
   "cell_type": "code",
   "execution_count": null,
   "metadata": {},
   "outputs": [],
   "source": [
    "ind = np.array([[3,7],[4,5]])\n",
    "x[ind]"
   ]
  },
  {
   "cell_type": "markdown",
   "metadata": {},
   "source": [
    "\"Примхлива\" індексація застосовується і у випадку багатовимірних масивів."
   ]
  },
  {
   "cell_type": "code",
   "execution_count": null,
   "metadata": {},
   "outputs": [],
   "source": [
    "X = np.arange(12).reshape((3,4))\n",
    "print(X)\n",
    "row = np.array([0,1,2])\n",
    "col = np.array([2,1,3])\n",
    "X[row, col]  #перше значення -це X[0,2], друге значення - це X[1,1], третє значення - це X[2,3]"
   ]
  },
  {
   "cell_type": "markdown",
   "metadata": {},
   "source": [
    "### Комбінована індексація"
   ]
  },
  {
   "cell_type": "markdown",
   "metadata": {},
   "source": [
    "Можна застосовувати спільно \"примхливі\" та прості індекси:"
   ]
  },
  {
   "cell_type": "code",
   "execution_count": null,
   "metadata": {},
   "outputs": [],
   "source": [
    "X = np.arange(12).reshape((3,4))\n",
    "print(X)\n",
    "X[2, [2,0,1]]"
   ]
  },
  {
   "cell_type": "markdown",
   "metadata": {},
   "source": [
    "Можна застосовувати спільно \"примхливі\" індекси та зрізи:"
   ]
  },
  {
   "cell_type": "code",
   "execution_count": null,
   "metadata": {},
   "outputs": [],
   "source": [
    "X[1:, [2,0,1]]"
   ]
  },
  {
   "cell_type": "markdown",
   "metadata": {},
   "source": [
    "Можна застосовувати спільно \"примхливу\" індексацію та маски:"
   ]
  },
  {
   "cell_type": "code",
   "execution_count": null,
   "metadata": {},
   "outputs": [],
   "source": [
    "mask = np.array([True, False, True, False])\n",
    "print(mask)\n",
    "X[:, mask]"
   ]
  },
  {
   "cell_type": "markdown",
   "metadata": {},
   "source": [
    "### Приклад. Вибірка випадкових точок"
   ]
  },
  {
   "cell_type": "markdown",
   "metadata": {},
   "source": [
    "Змоделюємо вибірку точок з двовимірного нормального розподілу з вектором середніх mean та коваріаційною матрицею cov."
   ]
  },
  {
   "cell_type": "code",
   "execution_count": null,
   "metadata": {},
   "outputs": [],
   "source": [
    "mean = [0,0]\n",
    "cov = [[1,0],[0,1]]\n",
    "X = np.random.multivariate_normal(mean, cov, 100)\n",
    "#print(X)\n",
    "X.shape"
   ]
  },
  {
   "cell_type": "code",
   "execution_count": null,
   "metadata": {},
   "outputs": [],
   "source": [
    "%matplotlib inline\n",
    "import matplotlib.pyplot as plt\n",
    "import seaborn; seaborn.set()\n",
    "plt.scatter(X[:,0], X[:,1])\n",
    "plt.title('Normally distributed points')\n",
    "plt.xlabel('x1')\n",
    "plt.ylabel('x2')"
   ]
  },
  {
   "cell_type": "markdown",
   "metadata": {},
   "source": [
    "Скористаємося \"примхливою\" індексацією для вибору 20 випадкових точок."
   ]
  },
  {
   "cell_type": "code",
   "execution_count": null,
   "metadata": {},
   "outputs": [],
   "source": [
    "indices = np.random.choice(X.shape[0], size=20, replace=False)\n",
    "indices\n",
    "selection=X[indices]\n",
    "#print(selection)\n",
    "selection.shape"
   ]
  },
  {
   "cell_type": "markdown",
   "metadata": {},
   "source": [
    "Візуалізація вибраних точок"
   ]
  },
  {
   "cell_type": "code",
   "execution_count": null,
   "metadata": {},
   "outputs": [],
   "source": [
    "plt.scatter(X[:,0], X[:,1])\n",
    "plt.scatter(selection[:,0], selection[:,1], facecolor='red')\n",
    "plt.title('Normally distributed points')\n",
    "plt.xlabel('x1')\n",
    "plt.ylabel('x2')"
   ]
  },
  {
   "cell_type": "markdown",
   "metadata": {},
   "source": [
    "### Зміна значень за допомогою \"примхливої\" індексації"
   ]
  },
  {
   "cell_type": "code",
   "execution_count": null,
   "metadata": {},
   "outputs": [],
   "source": [
    "x = np.arange(10)\n",
    "i = np.array([2,1,8,4])\n",
    "x[i] = 99\n",
    "print(x)"
   ]
  },
  {
   "cell_type": "code",
   "execution_count": null,
   "metadata": {},
   "outputs": [],
   "source": [
    "x[i] -= 10\n",
    "print(x)"
   ]
  },
  {
   "cell_type": "markdown",
   "metadata": {},
   "source": [
    "### Сортування масивів"
   ]
  },
  {
   "cell_type": "markdown",
   "metadata": {},
   "source": [
    "### Швидке сортування: функції np.sort, np.argsort"
   ]
  },
  {
   "cell_type": "markdown",
   "metadata": {},
   "source": [
    "Функція np.sort повертає відсортовані елементи масиву."
   ]
  },
  {
   "cell_type": "code",
   "execution_count": null,
   "metadata": {},
   "outputs": [],
   "source": [
    "x = np.array([2,1,4,3,6,5])\n",
    "np.sort(x)"
   ]
  },
  {
   "cell_type": "markdown",
   "metadata": {},
   "source": [
    "Функція np.argsort повертає індекси відсортованих елементів масиву."
   ]
  },
  {
   "cell_type": "code",
   "execution_count": null,
   "metadata": {},
   "outputs": [],
   "source": [
    "x = np.array([2,1,4,3,6,5])\n",
    "i = np.argsort(x)  \n",
    "print(i)\n",
    "x[i]  #ці індекси можна використати для сортування масиву"
   ]
  },
  {
   "cell_type": "markdown",
   "metadata": {},
   "source": [
    "Сортування багатовимірного масиву за рядками або стовбцями проводиться за допомогою задання аргументу axis."
   ]
  },
  {
   "cell_type": "code",
   "execution_count": null,
   "metadata": {},
   "outputs": [],
   "source": [
    "np.random.seed(42)\n",
    "X = np.random.randint(0, 10, size=(4,6)) #масив розміром size випадкових цілих чисел на [0, 10)\n",
    "print(X)"
   ]
  },
  {
   "cell_type": "code",
   "execution_count": null,
   "metadata": {},
   "outputs": [],
   "source": [
    "np.sort(X, axis=0) #сортування за стовбцями"
   ]
  },
  {
   "cell_type": "code",
   "execution_count": null,
   "metadata": {},
   "outputs": [],
   "source": [
    "np.sort(X, axis=1) #сортування за рядками"
   ]
  },
  {
   "cell_type": "markdown",
   "metadata": {},
   "source": [
    "### Часткове сортування: функції np.partition, np.argsort"
   ]
  },
  {
   "cell_type": "markdown",
   "metadata": {},
   "source": [
    "Функція np.partition приймає на вхід масив і число K. Результатом буде новий масив з K найменшими значеннями ліворуч від точки розбиття та іншими значеннями праворуч від неї в довільному порядку."
   ]
  },
  {
   "cell_type": "code",
   "execution_count": null,
   "metadata": {},
   "outputs": [],
   "source": [
    "x = np.array([7,2,3,1,6,5,4])\n",
    "print(x)\n",
    "np.partition(x, kth=3)"
   ]
  },
  {
   "cell_type": "code",
   "execution_count": null,
   "metadata": {},
   "outputs": [],
   "source": [
    "np.random.seed(42)\n",
    "X = np.random.randint(0, 10, size=(4,6)) #масив розміром size випадкових цілих чисел на [0, 10)\n",
    "print(X)\n",
    "np.partition(X, kth=2, axis=1) #часткове сортування за рядками"
   ]
  },
  {
   "cell_type": "code",
   "execution_count": null,
   "metadata": {},
   "outputs": [],
   "source": [
    "np.partition(X, kth=2, axis=0) #часткове сортування за стовбцями"
   ]
  },
  {
   "cell_type": "markdown",
   "metadata": {},
   "source": [
    "Функція np.argpartition повертає індекси елементів масиву в кожній секції."
   ]
  },
  {
   "cell_type": "code",
   "execution_count": null,
   "metadata": {},
   "outputs": [],
   "source": [
    "x = np.array([7,2,3,1,6,5,4])\n",
    "#print(np.partition(x, kth=3)) #[2 1 3 4 6 5 7]\n",
    "np.argpartition(x, kth=3)"
   ]
  },
  {
   "cell_type": "markdown",
   "metadata": {},
   "source": [
    "### Приклад. K найближчих сусідів"
   ]
  },
  {
   "cell_type": "markdown",
   "metadata": {},
   "source": [
    "В квадрат [0,1]x[0,1] навмання кидать 10 точок. Для кожної точки знайти двох її найближчих сусідів."
   ]
  },
  {
   "cell_type": "code",
   "execution_count": null,
   "metadata": {},
   "outputs": [],
   "source": [
    "import numpy as np\n",
    "np.random.seed(22)\n",
    "X = np.random.random_sample(size=(10,2)) #масив розміром size випадкових цілих чисел на [0,1]x[0,1]\n",
    "print(X)\n",
    "X.shape"
   ]
  },
  {
   "cell_type": "markdown",
   "metadata": {},
   "source": [
    "Візуалізація точок"
   ]
  },
  {
   "cell_type": "code",
   "execution_count": null,
   "metadata": {},
   "outputs": [],
   "source": [
    "%matplotlib inline\n",
    "import matplotlib.pyplot as plt\n",
    "import seaborn; seaborn.set()\n",
    "plt.scatter(X[:,0], X[:,1])\n",
    "plt.title('Visualization of points')\n",
    "plt.xlabel('x1')\n",
    "plt.ylabel('x2')"
   ]
  },
  {
   "cell_type": "markdown",
   "metadata": {},
   "source": [
    "Обчислимо відстань між усіма парами точок."
   ]
  },
  {
   "cell_type": "code",
   "execution_count": null,
   "metadata": {},
   "outputs": [],
   "source": [
    "differences = X[:, np.newaxis, :] - X[np.newaxis, :, :] #для кожної пари точок обчислюємо різниці їхніх координат\n",
    "differences.shape\n",
    "sq_differences = differences**2 #підносимо різниці координат в квадрат\n",
    "sq_differences.shape\n",
    "dist_sq = np.sum(sq_differences, axis=-1) #If axis is negative it counts from the last to the first axis\n",
    "#print(dist_sq)\n",
    "dist_sq.shape"
   ]
  },
  {
   "cell_type": "markdown",
   "metadata": {},
   "source": [
    "Завдання. Пояснити операцію обчислення різниці координат для кожної пари точок згідно з правилами транслювання масивів"
   ]
  },
  {
   "cell_type": "markdown",
   "metadata": {},
   "source": [
    "Скористаємося функцією np.argsort для повернення індексів відсортованих елементів масиву.\n",
    "Перший стовбець - це числа від 0 до 9 в порядку зростання: це відбувається через те, що найближчий сусід кожної точки - вона сама."
   ]
  },
  {
   "cell_type": "code",
   "execution_count": null,
   "metadata": {},
   "outputs": [],
   "source": [
    "nearest = np.argsort(dist_sq, axis=1)\n",
    "print(nearest)"
   ]
  },
  {
   "cell_type": "markdown",
   "metadata": {},
   "source": [
    "Нам цікаві K найближчих сусідів, тому достатньо побудувати масив з K+1 найменшими значеннями ліворуч від точки розбиття та іншими значеннями праворуч від неї в довільному порядку."
   ]
  },
  {
   "cell_type": "code",
   "execution_count": null,
   "metadata": {},
   "outputs": [],
   "source": [
    "K = 2\n",
    "nearest_partition = np.argpartition(dist_sq, kth=K+1, axis=1)\n",
    "nearest_partition"
   ]
  },
  {
   "cell_type": "code",
   "execution_count": null,
   "metadata": {},
   "outputs": [],
   "source": [
    "plt.scatter(X[:,0], X[:,1])\n",
    "K = 2\n",
    "for i in range(X.shape[0]): # від 0 до 9\n",
    "    for j in nearest_partition[i, :K+1]:\n",
    "        plt.plot(*zip(X[j],X[i]), color='red')\n",
    "plt.title('Visualization of the neighbors of each point')\n",
    "plt.xlabel('x1')\n",
    "plt.ylabel('x2')"
   ]
  }
 ],
 "metadata": {
  "kernelspec": {
   "display_name": "Python 3",
   "language": "python",
   "name": "python3"
  },
  "language_info": {
   "codemirror_mode": {
    "name": "ipython",
    "version": 3
   },
   "file_extension": ".py",
   "mimetype": "text/x-python",
   "name": "python",
   "nbconvert_exporter": "python",
   "pygments_lexer": "ipython3",
   "version": "3.8.5"
  }
 },
 "nbformat": 4,
 "nbformat_minor": 2
}
