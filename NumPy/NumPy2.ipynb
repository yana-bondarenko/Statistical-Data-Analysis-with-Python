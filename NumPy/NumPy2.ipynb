{
 "cells": [
  {
   "cell_type": "markdown",
   "metadata": {},
   "source": [
    "# “Python Data Science Handbook by Jake VanderPlas (O’Reilly). Copyright 2017 Jake VanderPlas, 978-1-491-91205-8.”"
   ]
  },
  {
   "cell_type": "markdown",
   "metadata": {},
   "source": [
    "## Бібліотека NumPy (Numerical Python). Частина 2"
   ]
  },
  {
   "cell_type": "markdown",
   "metadata": {},
   "source": [
    "### Операції над масивами. Транслювання (broadcasting)"
   ]
  },
  {
   "cell_type": "markdown",
   "metadata": {},
   "source": [
    "Транслювання - це набір правил по застосуванню бінарних універсальних функцій (додавання, різниці, множення та інших) до масивів різного розміру."
   ]
  },
  {
   "cell_type": "markdown",
   "metadata": {},
   "source": [
    "Приклад 1. Результат додавання одновимірних масивів. Для масивів одного розміру операції виконуються поелементно."
   ]
  },
  {
   "cell_type": "code",
   "execution_count": null,
   "metadata": {},
   "outputs": [],
   "source": [
    "a = np.arange(3)\n",
    "b= np.array([5,5,5])\n",
    "print(a); print(b)"
   ]
  },
  {
   "cell_type": "code",
   "execution_count": null,
   "metadata": {},
   "outputs": [],
   "source": [
    "print(\"a ndim: \", a.ndim)\n",
    "print(\"b ndim: \", b.ndim) \n",
    "print(\"a shape: \", a.shape)\n",
    "print(\"b shape: \", b.shape) "
   ]
  },
  {
   "cell_type": "code",
   "execution_count": null,
   "metadata": {},
   "outputs": [],
   "source": [
    "print(a+b)\n",
    "(a+b).shape"
   ]
  },
  {
   "cell_type": "code",
   "execution_count": null,
   "metadata": {},
   "outputs": [],
   "source": [
    "a = np.arange(3)\n",
    "print(a+5)"
   ]
  },
  {
   "cell_type": "markdown",
   "metadata": {},
   "source": [
    "Значення 5 розтягується (транслюється) в масив [5,5,5] для того, щоб відповідати формі масиву a."
   ]
  },
  {
   "cell_type": "markdown",
   "metadata": {},
   "source": [
    "РИСУНОК"
   ]
  },
  {
   "cell_type": "markdown",
   "metadata": {},
   "source": [
    "Приклад 2. Результат додавання двовимірного та одновимірного масивів"
   ]
  },
  {
   "cell_type": "code",
   "execution_count": null,
   "metadata": {},
   "outputs": [],
   "source": [
    "M = np.ones((3,3))\n",
    "a = np.arange(3)\n",
    "print(M); print(a)"
   ]
  },
  {
   "cell_type": "code",
   "execution_count": null,
   "metadata": {},
   "outputs": [],
   "source": [
    "print(\"a ndim: \", a.ndim)\n",
    "print(\"M ndim: \", M.ndim) \n",
    "print(\"a shape: \", a.shape)\n",
    "print(\"M shape: \", M.shape) "
   ]
  },
  {
   "cell_type": "code",
   "execution_count": null,
   "metadata": {},
   "outputs": [],
   "source": [
    "print(M + a)\n",
    "(M + a).shape"
   ]
  },
  {
   "cell_type": "markdown",
   "metadata": {},
   "source": [
    "Одновимірний масив a розтягується (транслюється) на другий вимір для того, щоб відповідати формі масиву M."
   ]
  },
  {
   "cell_type": "markdown",
   "metadata": {},
   "source": [
    "РИСУНОК"
   ]
  },
  {
   "cell_type": "markdown",
   "metadata": {},
   "source": [
    "Приклад 3. Результат додавання масивів різного розміру "
   ]
  },
  {
   "cell_type": "code",
   "execution_count": null,
   "metadata": {},
   "outputs": [],
   "source": [
    "a = np.arange(3)\n",
    "b = np.arange(3)[:, np.newaxis] # перетворення одновимірного масиву в матрицю-стовбець\n",
    "print(a); print(b)"
   ]
  },
  {
   "cell_type": "code",
   "execution_count": null,
   "metadata": {},
   "outputs": [],
   "source": [
    "print(\"a ndim: \", a.ndim)\n",
    "print(\"b ndim: \", b.ndim) \n",
    "print(\"a shape: \", a.shape)\n",
    "print(\"b shape: \", b.shape) "
   ]
  },
  {
   "cell_type": "code",
   "execution_count": null,
   "metadata": {},
   "outputs": [],
   "source": [
    "print(a + b)\n",
    "(a + b).shape"
   ]
  },
  {
   "cell_type": "markdown",
   "metadata": {},
   "source": [
    "Масиви a та b розтягуються (транслюються) для приведення до двовимірної форми."
   ]
  },
  {
   "cell_type": "markdown",
   "metadata": {},
   "source": [
    "РИСУНОК"
   ]
  },
  {
   "cell_type": "markdown",
   "metadata": {},
   "source": [
    "### Правила транслювання"
   ]
  },
  {
   "cell_type": "markdown",
   "metadata": {},
   "source": [
    "Правило 1. Якщо розмірності двох масивів відрізняються, то форма масиву з меншою розмірністю доповнюється одиницями ліворуч."
   ]
  },
  {
   "cell_type": "markdown",
   "metadata": {},
   "source": [
    "Правило 2. Якщо форми двох масивів не збігаються в будь-якому вимірі, то масив з формою, рівною 1 в одному вимірі, розтягується до форми другого масиву в цьому ж вимірі."
   ]
  },
  {
   "cell_type": "markdown",
   "metadata": {},
   "source": [
    "Правило 3. Якщо форми двох масивів не збігаються в будь-якому вимірі і не один з вимірів не дорівнює 1, то генерується помилка."
   ]
  },
  {
   "cell_type": "markdown",
   "metadata": {},
   "source": [
    "#### Приклад 1. Транслювання одного масиву"
   ]
  },
  {
   "cell_type": "code",
   "execution_count": null,
   "metadata": {},
   "outputs": [],
   "source": [
    "a= np.arange(3)\n",
    "M = np.ones((2,3))\n",
    "print(a); print(M)"
   ]
  },
  {
   "cell_type": "code",
   "execution_count": null,
   "metadata": {},
   "outputs": [],
   "source": [
    "print(\"a ndim: \", a.ndim)\n",
    "print(\"M ndim: \", M.ndim) \n",
    "print(\"a shape: \", a.shape)\n",
    "print(\"M shape: \", M.shape) "
   ]
  },
  {
   "cell_type": "markdown",
   "metadata": {},
   "source": [
    "Згідно з правилом 1 розмірність a.ndim менше розмірності M.ndim, тому ми доповнюємо форму масиву a ліворуч одиницею\n",
    "\n",
    "a.shape -> (1,3)\n",
    "\n",
    "M.shape -> (2,3)"
   ]
  },
  {
   "cell_type": "markdown",
   "metadata": {},
   "source": [
    "Згідно з правилом 2 форма a.shape не збігаються з формою M.shape, тому ми розтягуємо перший масив до форми другого масиву.\n",
    "\n",
    "a.shape -> (2,3)\n",
    "\n",
    "M.shape -> (2,3)"
   ]
  },
  {
   "cell_type": "code",
   "execution_count": null,
   "metadata": {},
   "outputs": [],
   "source": [
    "print(M + a)\n",
    "(M+a).shape"
   ]
  },
  {
   "cell_type": "markdown",
   "metadata": {},
   "source": [
    "#### Приклад 2. Транслювання двох масивів"
   ]
  },
  {
   "cell_type": "code",
   "execution_count": null,
   "metadata": {},
   "outputs": [],
   "source": [
    "a= np.arange(3).reshape((3,1))\n",
    "b = np.arange(3)\n",
    "print(a); print(b)"
   ]
  },
  {
   "cell_type": "code",
   "execution_count": null,
   "metadata": {},
   "outputs": [],
   "source": [
    "print(\"a ndim: \", a.ndim)\n",
    "print(\"b ndim: \", b.ndim) \n",
    "print(\"a shape: \", a.shape)\n",
    "print(\"b shape: \", b.shape) "
   ]
  },
  {
   "cell_type": "markdown",
   "metadata": {},
   "source": [
    "Згідно з правилом 1 розмірність b.ndim менше розмірності a.ndim, тому ми доповнюємо форму масиву b ліворуч одиницею\n",
    "\n",
    "a.shape -> (3,1)\n",
    "\n",
    "b.shape -> (1,3)"
   ]
  },
  {
   "cell_type": "markdown",
   "metadata": {},
   "source": [
    "Згідно з правилом 2 форма a.shape не збігаються з формою b.shape, тому необхідно збільшувати одиниці 1 до збігу з розміром іншого масиву.\n",
    "\n",
    "a.shape -> (3,3)\n",
    "\n",
    "b.shape -> (3,3)"
   ]
  },
  {
   "cell_type": "code",
   "execution_count": null,
   "metadata": {},
   "outputs": [],
   "source": [
    "print(a + b)\n",
    "(a + b).shape"
   ]
  },
  {
   "cell_type": "markdown",
   "metadata": {},
   "source": [
    "#### Приклад 3. Два масиви несумісні"
   ]
  },
  {
   "cell_type": "code",
   "execution_count": null,
   "metadata": {},
   "outputs": [],
   "source": [
    "a = np.arange(3)\n",
    "b = np.ones((3,2))\n",
    "print(a); print(b)"
   ]
  },
  {
   "cell_type": "code",
   "execution_count": null,
   "metadata": {},
   "outputs": [],
   "source": [
    "print(\"a ndim: \", a.ndim)\n",
    "print(\"b ndim: \", b.ndim) \n",
    "print(\"a shape: \", a.shape)\n",
    "print(\"b shape: \", b.shape) "
   ]
  },
  {
   "cell_type": "markdown",
   "metadata": {},
   "source": [
    "Згідно з правилом 1 розмірність a.ndim менше розмірності b.ndim, тому ми доповнюємо форму масиву a ліворуч одиницею\n",
    "\n",
    "a.shape -> (1,3)\n",
    "\n",
    "b.shape -> (3,2)"
   ]
  },
  {
   "cell_type": "markdown",
   "metadata": {},
   "source": [
    "Згідно з правилом 2 форма a.shape не збігаються з формою b.shape, тому необхідно збільшувати одиницю 1 до збігу з розміром іншого масиву.\n",
    "\n",
    "a.shape -> (3,3)\n",
    "\n",
    "b.shape -> (3,2)"
   ]
  },
  {
   "cell_type": "code",
   "execution_count": null,
   "metadata": {},
   "outputs": [],
   "source": [
    "print(a + b)"
   ]
  },
  {
   "cell_type": "markdown",
   "metadata": {},
   "source": [
    "### Центрування масиву"
   ]
  },
  {
   "cell_type": "code",
   "execution_count": null,
   "metadata": {},
   "outputs": [],
   "source": [
    "X = np.random.random_sample(size=(10,3)) #масив розміром size рівномірно розподілених чисел на [0,1]\n",
    "X"
   ]
  },
  {
   "cell_type": "code",
   "execution_count": null,
   "metadata": {},
   "outputs": [],
   "source": [
    "Xmean = X.mean(axis=0) # обчислення середнього значення по стовбцях\n",
    "Xmean"
   ]
  },
  {
   "cell_type": "code",
   "execution_count": null,
   "metadata": {},
   "outputs": [],
   "source": [
    "X_centered = X - Xmean\n",
    "X_centered"
   ]
  },
  {
   "cell_type": "code",
   "execution_count": null,
   "metadata": {},
   "outputs": [],
   "source": [
    "X_centered_mean = X_centered.mean(axis=0) # обчислення середнього значення по стовбцях\n",
    "X_centered_mean"
   ]
  },
  {
   "cell_type": "markdown",
   "metadata": {},
   "source": [
    "В границях машинної точності середнє значення по стовбцях дорівнює 0."
   ]
  },
  {
   "cell_type": "markdown",
   "metadata": {},
   "source": [
    "### Порівняння, маски та булева логіка "
   ]
  },
  {
   "cell_type": "markdown",
   "metadata": {},
   "source": [
    "Оператори порівняння:"
   ]
  },
  {
   "cell_type": "code",
   "execution_count": null,
   "metadata": {},
   "outputs": [],
   "source": [
    "x = np.array([1,2,3,4,5])\n",
    "print(\"x < 3\", x < 3)\n",
    "print(\"x > 3\", x > 3)\n",
    "print(\"x <= 3\", x <= 3)\n",
    "print(\"x >= 3\", x >= 3)\n",
    "print(\"x != 3\", x != 3)\n",
    "print(\"x == 3\", x == 3)"
   ]
  },
  {
   "cell_type": "markdown",
   "metadata": {},
   "source": [
    "Еквівалентні універсальні функції:"
   ]
  },
  {
   "cell_type": "code",
   "execution_count": null,
   "metadata": {},
   "outputs": [],
   "source": [
    "x = np.array([1,2,3,4,5])\n",
    "print(\"x < 3\", np.less(x, 3))\n",
    "print(\"x > 3\", np.greater(x, 3))\n",
    "print(\"x <= 3\", np.less_equal(x, 3))\n",
    "print(\"x >= 3\", np.greater_equal(x, 3))\n",
    "print(\"x != 3\", np.not_equal(x, 3))\n",
    "print(\"x == 3\", np.equal(x, 3))"
   ]
  },
  {
   "cell_type": "markdown",
   "metadata": {},
   "source": [
    "Універсальні функції працюють з масивами будь-якого розміру"
   ]
  },
  {
   "cell_type": "code",
   "execution_count": null,
   "metadata": {},
   "outputs": [],
   "source": [
    "np.random.seed(0)  # початкове значення для генерації одних і тих самих даних\n",
    "x = np.random.randint(10, size =(3,4))\n",
    "print(x)"
   ]
  },
  {
   "cell_type": "code",
   "execution_count": null,
   "metadata": {},
   "outputs": [],
   "source": [
    "print(np.less(x, 6))"
   ]
  },
  {
   "cell_type": "markdown",
   "metadata": {},
   "source": [
    "### Робота з булевими масивами"
   ]
  },
  {
   "cell_type": "code",
   "execution_count": null,
   "metadata": {},
   "outputs": [],
   "source": [
    "np.count_nonzero(x < 6) #кількість елементів масиву менше 6"
   ]
  },
  {
   "cell_type": "code",
   "execution_count": null,
   "metadata": {},
   "outputs": [],
   "source": [
    "np.sum(x < 6) #кількість елементів масиву менше 6"
   ]
  },
  {
   "cell_type": "code",
   "execution_count": null,
   "metadata": {},
   "outputs": [],
   "source": [
    "np.sum(x < 6, axis=1) #кількість елементів менше 6 в кожному рядку"
   ]
  },
  {
   "cell_type": "code",
   "execution_count": null,
   "metadata": {},
   "outputs": [],
   "source": [
    "np.any(x > 8) #чи є значення, що перевищують 8?"
   ]
  },
  {
   "cell_type": "code",
   "execution_count": null,
   "metadata": {},
   "outputs": [],
   "source": [
    "np.any(x < 0) #чи є значення менше 0?"
   ]
  },
  {
   "cell_type": "code",
   "execution_count": null,
   "metadata": {},
   "outputs": [],
   "source": [
    "np.all( x < 10) #чи всі значення менше 10?"
   ]
  },
  {
   "cell_type": "code",
   "execution_count": null,
   "metadata": {},
   "outputs": [],
   "source": [
    "np.all( x < 8, axis=1) #чи всі значення менше 8 в кожному рядку?"
   ]
  },
  {
   "cell_type": "markdown",
   "metadata": {},
   "source": [
    "### Булеві масиви як маски "
   ]
  },
  {
   "cell_type": "markdown",
   "metadata": {},
   "source": [
    "Для вибору значень масиву, які задовольняють певній умові, застосовують операцію маскування (masking)."
   ]
  },
  {
   "cell_type": "code",
   "execution_count": null,
   "metadata": {},
   "outputs": [],
   "source": [
    "x[x < 5] #або x[np.less(x, 5)]"
   ]
  },
  {
   "cell_type": "code",
   "execution_count": null,
   "metadata": {},
   "outputs": [],
   "source": [
    "x[x > 5] #або x[np.greater(x, 5)]"
   ]
  },
  {
   "cell_type": "code",
   "execution_count": null,
   "metadata": {},
   "outputs": [],
   "source": [
    "x[x <= 5] #або x[np.less_equal(x, 5)]"
   ]
  },
  {
   "cell_type": "code",
   "execution_count": null,
   "metadata": {},
   "outputs": [],
   "source": [
    "x[x >= 5] #або x[np.greater_equal(x, 5)]"
   ]
  },
  {
   "cell_type": "code",
   "execution_count": null,
   "metadata": {},
   "outputs": [],
   "source": [
    "x[x != 5] #або x[np.not_equal(x, 5)]"
   ]
  },
  {
   "cell_type": "code",
   "execution_count": null,
   "metadata": {},
   "outputs": [],
   "source": [
    "x[x == 5] #або x[np.equal(x, 5)]"
   ]
  },
  {
   "cell_type": "markdown",
   "metadata": {},
   "source": [
    "### Приклад. Статистика опадів в Сіетлі з 1 січня по 31 грудня 2014 року"
   ]
  },
  {
   "cell_type": "code",
   "execution_count": null,
   "metadata": {},
   "outputs": [],
   "source": [
    "import numpy as np\n",
    "import pandas as pd\n",
    "rainfall = pd.read_csv('Seattle2014.txt')\n",
    "rainfall"
   ]
  },
  {
   "cell_type": "code",
   "execution_count": null,
   "metadata": {},
   "outputs": [],
   "source": [
    "rainfall = np.array(rainfall['PRCP']) # кількість опадів в мм\n",
    "print(rainfall)"
   ]
  },
  {
   "cell_type": "code",
   "execution_count": null,
   "metadata": {},
   "outputs": [],
   "source": [
    "inches = rainfall/254.0\n",
    "print(inches)\n",
    "inches.shape"
   ]
  },
  {
   "cell_type": "code",
   "execution_count": null,
   "metadata": {},
   "outputs": [],
   "source": [
    "%matplotlib inline\n",
    "import matplotlib.pyplot as plt \n",
    "import seaborn; seaborn.set()"
   ]
  },
  {
   "cell_type": "code",
   "execution_count": null,
   "metadata": {},
   "outputs": [],
   "source": [
    "plt.hist(inches,40)\n",
    "plt.title('Histogram of 2014 rainfall in Seattle')\n",
    "plt.xlabel('rainfall (inches)')\n",
    "plt.ylabel('number')"
   ]
  },
  {
   "cell_type": "markdown",
   "metadata": {},
   "source": [
    "Кількість опадів в більшості днів в 2014 році близька до нуля. \n",
    "Гістограма не відображає інформацію щодо кількості днів без опадів, кількості днів з опадами, \n",
    "кількості днів з товщиною слою опадів більше 0.5 дюймів, кількості днів з товщиною слою опадів менше 0.2 дюймів.\n",
    "Застосуємо оператори порівняння, маски та булеві логічні оператори для відповіді на ці питання."
   ]
  },
  {
   "cell_type": "code",
   "execution_count": null,
   "metadata": {},
   "outputs": [],
   "source": [
    "print(\"Number days without rain: \", np.sum(inches == 0))\n",
    "print(\"Number days with rain: \", np.sum(inches != 0))\n",
    "print(\"Days with more than 0.5 inches: \", np.sum(inches > 0.5))\n",
    "print(\"Rainy days with < 0.2 inches: \", np.sum((inches > 0) & (inches < 0.2)))\n",
    "print(\"Rainy days with < 0.2 inches: \", np.sum(~((inches <= 0)|(inches >= 0.2))))"
   ]
  },
  {
   "cell_type": "code",
   "execution_count": null,
   "metadata": {},
   "outputs": [],
   "source": [
    "rainy = (inches > 0)  # маска для всіх днів з опадами\n",
    "summer = (np.arange(365) - 172 < 90) & (np.arange(365) - 172 > 0)  # маска для всіх літніх днів\n",
    "# 21 червня - 172ий день"
   ]
  },
  {
   "cell_type": "code",
   "execution_count": null,
   "metadata": {},
   "outputs": [],
   "source": [
    "#print(rainy)\n",
    "#print(summer)"
   ]
  },
  {
   "cell_type": "code",
   "execution_count": null,
   "metadata": {},
   "outputs": [],
   "source": [
    "print(\"Median precip on rainy days in 2014 (inches): \", np.median(inches[rainy]))\n",
    "print(\"Median precip on summer days in 2014 (inches): \", np.median(inches[summer]))\n",
    "print(\"Maximum precip on summer days in 2014 (inches): \", np.max(inches[summer]))\n",
    "print(\"Median precip on non-summer rainy days in 2014 (inches): \", np.median(inches[rainy & ~summer]))"
   ]
  }
 ],
 "metadata": {
  "kernelspec": {
   "display_name": "Python 3",
   "language": "python",
   "name": "python3"
  },
  "language_info": {
   "codemirror_mode": {
    "name": "ipython",
    "version": 3
   },
   "file_extension": ".py",
   "mimetype": "text/x-python",
   "name": "python",
   "nbconvert_exporter": "python",
   "pygments_lexer": "ipython3",
   "version": "3.8.5"
  }
 },
 "nbformat": 4,
 "nbformat_minor": 2
}
